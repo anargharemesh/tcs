{
 "cells": [
  {
   "cell_type": "code",
   "execution_count": 1,
   "id": "5e69e926",
   "metadata": {},
   "outputs": [],
   "source": [
    "import pandas as pd\n",
    "import numpy as np\n",
    "import matplotlib.pyplot as plt\n",
    "import seaborn as sns\n",
    "import warnings"
   ]
  },
  {
   "cell_type": "markdown",
   "id": "eecaec85",
   "metadata": {},
   "source": [
    "#Data Understanding"
   ]
  },
  {
   "cell_type": "code",
   "execution_count": 2,
   "id": "4e53c4b8",
   "metadata": {},
   "outputs": [],
   "source": [
    "df=pd.read_csv('salary.csv')"
   ]
  },
  {
   "cell_type": "code",
   "execution_count": 3,
   "id": "258270d7",
   "metadata": {},
   "outputs": [
    {
     "data": {
      "text/html": [
       "<div>\n",
       "<style scoped>\n",
       "    .dataframe tbody tr th:only-of-type {\n",
       "        vertical-align: middle;\n",
       "    }\n",
       "\n",
       "    .dataframe tbody tr th {\n",
       "        vertical-align: top;\n",
       "    }\n",
       "\n",
       "    .dataframe thead th {\n",
       "        text-align: right;\n",
       "    }\n",
       "</style>\n",
       "<table border=\"1\" class=\"dataframe\">\n",
       "  <thead>\n",
       "    <tr style=\"text-align: right;\">\n",
       "      <th></th>\n",
       "      <th>Emp ID</th>\n",
       "      <th>Name Prefix</th>\n",
       "      <th>First Name</th>\n",
       "      <th>Middle Initial</th>\n",
       "      <th>Last Name</th>\n",
       "      <th>Gender</th>\n",
       "      <th>E Mail</th>\n",
       "      <th>Father's Name</th>\n",
       "      <th>Mother's Name</th>\n",
       "      <th>Mother's Maiden Name</th>\n",
       "      <th>...</th>\n",
       "      <th>SSN</th>\n",
       "      <th>Phone No.</th>\n",
       "      <th>Place Name</th>\n",
       "      <th>County</th>\n",
       "      <th>City</th>\n",
       "      <th>State</th>\n",
       "      <th>Zip</th>\n",
       "      <th>Region</th>\n",
       "      <th>User Name</th>\n",
       "      <th>Password</th>\n",
       "    </tr>\n",
       "  </thead>\n",
       "  <tbody>\n",
       "    <tr>\n",
       "      <th>0</th>\n",
       "      <td>857211</td>\n",
       "      <td>Ms.</td>\n",
       "      <td>Hermila</td>\n",
       "      <td>J</td>\n",
       "      <td>Suhr</td>\n",
       "      <td>F</td>\n",
       "      <td>hermila.suhr@gmail.com</td>\n",
       "      <td>Todd Suhr</td>\n",
       "      <td>Cathrine Suhr</td>\n",
       "      <td>Hinojosa</td>\n",
       "      <td>...</td>\n",
       "      <td>275-17-8844</td>\n",
       "      <td>479-539-4593</td>\n",
       "      <td>Peach Orchard</td>\n",
       "      <td>Clay</td>\n",
       "      <td>Peach Orchard</td>\n",
       "      <td>AR</td>\n",
       "      <td>72453</td>\n",
       "      <td>South</td>\n",
       "      <td>hjsuhr</td>\n",
       "      <td>oZ%{&lt;6wN!A</td>\n",
       "    </tr>\n",
       "    <tr>\n",
       "      <th>1</th>\n",
       "      <td>514341</td>\n",
       "      <td>Mr.</td>\n",
       "      <td>Antonio</td>\n",
       "      <td>Q</td>\n",
       "      <td>Joy</td>\n",
       "      <td>M</td>\n",
       "      <td>antonio.joy@yahoo.com</td>\n",
       "      <td>Clark Joy</td>\n",
       "      <td>Clarisa Joy</td>\n",
       "      <td>Gagliardi</td>\n",
       "      <td>...</td>\n",
       "      <td>646-23-6213</td>\n",
       "      <td>229-234-6154</td>\n",
       "      <td>Rocky Ford</td>\n",
       "      <td>Screven</td>\n",
       "      <td>Rocky Ford</td>\n",
       "      <td>GA</td>\n",
       "      <td>30455</td>\n",
       "      <td>South</td>\n",
       "      <td>aqjoy</td>\n",
       "      <td>7_[%FE;saZ:B</td>\n",
       "    </tr>\n",
       "    <tr>\n",
       "      <th>2</th>\n",
       "      <td>314598</td>\n",
       "      <td>Prof.</td>\n",
       "      <td>Sebastian</td>\n",
       "      <td>J</td>\n",
       "      <td>Moores</td>\n",
       "      <td>M</td>\n",
       "      <td>sebastian.moores@ibm.com</td>\n",
       "      <td>Everette Moores</td>\n",
       "      <td>Sol Moores</td>\n",
       "      <td>Paden</td>\n",
       "      <td>...</td>\n",
       "      <td>499-29-8139</td>\n",
       "      <td>212-231-9912</td>\n",
       "      <td>Antwerp</td>\n",
       "      <td>Jefferson</td>\n",
       "      <td>Antwerp</td>\n",
       "      <td>NY</td>\n",
       "      <td>13608</td>\n",
       "      <td>Northeast</td>\n",
       "      <td>sjmoores</td>\n",
       "      <td>Z0:_dR*OQhQlF</td>\n",
       "    </tr>\n",
       "    <tr>\n",
       "      <th>3</th>\n",
       "      <td>987773</td>\n",
       "      <td>Mr.</td>\n",
       "      <td>Alec</td>\n",
       "      <td>S</td>\n",
       "      <td>Rittenhouse</td>\n",
       "      <td>M</td>\n",
       "      <td>alec.rittenhouse@gmail.com</td>\n",
       "      <td>Jefferey Rittenhouse</td>\n",
       "      <td>Moira Rittenhouse</td>\n",
       "      <td>Clanton</td>\n",
       "      <td>...</td>\n",
       "      <td>204-84-0943</td>\n",
       "      <td>229-873-6796</td>\n",
       "      <td>Milledgeville</td>\n",
       "      <td>Milledgeville</td>\n",
       "      <td>Milledgeville</td>\n",
       "      <td>GA</td>\n",
       "      <td>31059</td>\n",
       "      <td>South</td>\n",
       "      <td>asrittenhouse</td>\n",
       "      <td>7#?GLEd0</td>\n",
       "    </tr>\n",
       "    <tr>\n",
       "      <th>4</th>\n",
       "      <td>690850</td>\n",
       "      <td>Mr.</td>\n",
       "      <td>Reggie</td>\n",
       "      <td>C</td>\n",
       "      <td>Doughty</td>\n",
       "      <td>M</td>\n",
       "      <td>reggie.doughty@gmail.com</td>\n",
       "      <td>Jerrod Doughty</td>\n",
       "      <td>Crista Doughty</td>\n",
       "      <td>Abron</td>\n",
       "      <td>...</td>\n",
       "      <td>321-11-0416</td>\n",
       "      <td>314-677-4501</td>\n",
       "      <td>Springfield</td>\n",
       "      <td>Greene</td>\n",
       "      <td>Springfield</td>\n",
       "      <td>MO</td>\n",
       "      <td>65809</td>\n",
       "      <td>Midwest</td>\n",
       "      <td>rcdoughty</td>\n",
       "      <td>4~1!+LP^O</td>\n",
       "    </tr>\n",
       "    <tr>\n",
       "      <th>5</th>\n",
       "      <td>358257</td>\n",
       "      <td>Prof.</td>\n",
       "      <td>Elisha</td>\n",
       "      <td>B</td>\n",
       "      <td>Bottom</td>\n",
       "      <td>M</td>\n",
       "      <td>elisha.bottom@yahoo.com</td>\n",
       "      <td>Nicolas Bottom</td>\n",
       "      <td>Nu Bottom</td>\n",
       "      <td>Yuhas</td>\n",
       "      <td>...</td>\n",
       "      <td>517-49-8835</td>\n",
       "      <td>206-233-8897</td>\n",
       "      <td>Dryden</td>\n",
       "      <td>Chelan</td>\n",
       "      <td>Dryden</td>\n",
       "      <td>WA</td>\n",
       "      <td>98821</td>\n",
       "      <td>West</td>\n",
       "      <td>ebbottom</td>\n",
       "      <td>H5OB-]tc|BsEJfc</td>\n",
       "    </tr>\n",
       "    <tr>\n",
       "      <th>6</th>\n",
       "      <td>303899</td>\n",
       "      <td>Mr.</td>\n",
       "      <td>Danilo</td>\n",
       "      <td>R</td>\n",
       "      <td>Irwin</td>\n",
       "      <td>M</td>\n",
       "      <td>danilo.irwin@gmail.com</td>\n",
       "      <td>Ron Irwin</td>\n",
       "      <td>Angelina Irwin</td>\n",
       "      <td>Mcwilliams</td>\n",
       "      <td>...</td>\n",
       "      <td>605-87-8120</td>\n",
       "      <td>319-326-7935</td>\n",
       "      <td>Urbandale</td>\n",
       "      <td>Polk</td>\n",
       "      <td>Urbandale</td>\n",
       "      <td>IA</td>\n",
       "      <td>50323</td>\n",
       "      <td>Midwest</td>\n",
       "      <td>drirwin</td>\n",
       "      <td>qd7XF[m5</td>\n",
       "    </tr>\n",
       "    <tr>\n",
       "      <th>7</th>\n",
       "      <td>901163</td>\n",
       "      <td>Ms.</td>\n",
       "      <td>Madalene</td>\n",
       "      <td>D</td>\n",
       "      <td>Dierks</td>\n",
       "      <td>F</td>\n",
       "      <td>madalene.dierks@yahoo.com</td>\n",
       "      <td>Efren Dierks</td>\n",
       "      <td>Rebbeca Dierks</td>\n",
       "      <td>Grosse</td>\n",
       "      <td>...</td>\n",
       "      <td>050-02-8165</td>\n",
       "      <td>503-778-8049</td>\n",
       "      <td>Deer Island</td>\n",
       "      <td>Columbia</td>\n",
       "      <td>Deer Island</td>\n",
       "      <td>OR</td>\n",
       "      <td>97054</td>\n",
       "      <td>West</td>\n",
       "      <td>mddierks</td>\n",
       "      <td>4f_N7?%\\C!9sQ6&amp;</td>\n",
       "    </tr>\n",
       "    <tr>\n",
       "      <th>8</th>\n",
       "      <td>640135</td>\n",
       "      <td>Drs.</td>\n",
       "      <td>Micheal</td>\n",
       "      <td>W</td>\n",
       "      <td>Campanella</td>\n",
       "      <td>F</td>\n",
       "      <td>micheal.campanella@gmail.com</td>\n",
       "      <td>Spencer Campanella</td>\n",
       "      <td>Lila Campanella</td>\n",
       "      <td>Bledsoe</td>\n",
       "      <td>...</td>\n",
       "      <td>204-84-1953</td>\n",
       "      <td>216-821-3070</td>\n",
       "      <td>Leavittsburg</td>\n",
       "      <td>Trumbull</td>\n",
       "      <td>Leavittsburg</td>\n",
       "      <td>OH</td>\n",
       "      <td>44430</td>\n",
       "      <td>Midwest</td>\n",
       "      <td>mwcampanella</td>\n",
       "      <td>z*oPtJAxWR_+</td>\n",
       "    </tr>\n",
       "    <tr>\n",
       "      <th>9</th>\n",
       "      <td>775378</td>\n",
       "      <td>Mrs.</td>\n",
       "      <td>Wilma</td>\n",
       "      <td>V</td>\n",
       "      <td>Trail</td>\n",
       "      <td>F</td>\n",
       "      <td>wilma.trail@yahoo.com</td>\n",
       "      <td>Emilio Trail</td>\n",
       "      <td>Jeanette Trail</td>\n",
       "      <td>Teeter</td>\n",
       "      <td>...</td>\n",
       "      <td>405-73-1471</td>\n",
       "      <td>505-988-5623</td>\n",
       "      <td>Organ</td>\n",
       "      <td>Doña Ana</td>\n",
       "      <td>Organ</td>\n",
       "      <td>NM</td>\n",
       "      <td>88052</td>\n",
       "      <td>West</td>\n",
       "      <td>wvtrail</td>\n",
       "      <td>eZb/+LWH!b</td>\n",
       "    </tr>\n",
       "  </tbody>\n",
       "</table>\n",
       "<p>10 rows × 37 columns</p>\n",
       "</div>"
      ],
      "text/plain": [
       "   Emp ID Name Prefix First Name Middle Initial    Last Name Gender  \\\n",
       "0  857211         Ms.    Hermila              J         Suhr      F   \n",
       "1  514341         Mr.    Antonio              Q          Joy      M   \n",
       "2  314598       Prof.  Sebastian              J       Moores      M   \n",
       "3  987773         Mr.       Alec              S  Rittenhouse      M   \n",
       "4  690850         Mr.     Reggie              C      Doughty      M   \n",
       "5  358257       Prof.     Elisha              B       Bottom      M   \n",
       "6  303899         Mr.     Danilo              R        Irwin      M   \n",
       "7  901163         Ms.   Madalene              D       Dierks      F   \n",
       "8  640135        Drs.    Micheal              W   Campanella      F   \n",
       "9  775378        Mrs.      Wilma              V        Trail      F   \n",
       "\n",
       "                         E Mail         Father's Name      Mother's Name  \\\n",
       "0        hermila.suhr@gmail.com             Todd Suhr      Cathrine Suhr   \n",
       "1         antonio.joy@yahoo.com             Clark Joy        Clarisa Joy   \n",
       "2      sebastian.moores@ibm.com       Everette Moores         Sol Moores   \n",
       "3    alec.rittenhouse@gmail.com  Jefferey Rittenhouse  Moira Rittenhouse   \n",
       "4      reggie.doughty@gmail.com        Jerrod Doughty     Crista Doughty   \n",
       "5       elisha.bottom@yahoo.com        Nicolas Bottom          Nu Bottom   \n",
       "6        danilo.irwin@gmail.com             Ron Irwin     Angelina Irwin   \n",
       "7     madalene.dierks@yahoo.com          Efren Dierks     Rebbeca Dierks   \n",
       "8  micheal.campanella@gmail.com    Spencer Campanella    Lila Campanella   \n",
       "9         wilma.trail@yahoo.com          Emilio Trail     Jeanette Trail   \n",
       "\n",
       "  Mother's Maiden Name  ...          SSN    Phone No.      Place Name  \\\n",
       "0             Hinojosa  ...  275-17-8844  479-539-4593  Peach Orchard   \n",
       "1            Gagliardi  ...  646-23-6213  229-234-6154     Rocky Ford   \n",
       "2                Paden  ...  499-29-8139  212-231-9912        Antwerp   \n",
       "3              Clanton  ...  204-84-0943  229-873-6796  Milledgeville   \n",
       "4                Abron  ...  321-11-0416  314-677-4501    Springfield   \n",
       "5                Yuhas  ...  517-49-8835  206-233-8897         Dryden   \n",
       "6           Mcwilliams  ...  605-87-8120  319-326-7935      Urbandale   \n",
       "7               Grosse  ...  050-02-8165  503-778-8049    Deer Island   \n",
       "8              Bledsoe  ...  204-84-1953  216-821-3070   Leavittsburg   \n",
       "9               Teeter  ...  405-73-1471  505-988-5623          Organ   \n",
       "\n",
       "          County           City State    Zip     Region      User Name  \\\n",
       "0           Clay  Peach Orchard    AR  72453      South         hjsuhr   \n",
       "1        Screven     Rocky Ford    GA  30455      South          aqjoy   \n",
       "2      Jefferson        Antwerp    NY  13608  Northeast       sjmoores   \n",
       "3  Milledgeville  Milledgeville    GA  31059      South  asrittenhouse   \n",
       "4         Greene    Springfield    MO  65809    Midwest      rcdoughty   \n",
       "5         Chelan         Dryden    WA  98821       West       ebbottom   \n",
       "6           Polk      Urbandale    IA  50323    Midwest        drirwin   \n",
       "7       Columbia    Deer Island    OR  97054       West       mddierks   \n",
       "8       Trumbull   Leavittsburg    OH  44430    Midwest   mwcampanella   \n",
       "9       Doña Ana          Organ    NM  88052       West        wvtrail   \n",
       "\n",
       "          Password  \n",
       "0       oZ%{<6wN!A  \n",
       "1     7_[%FE;saZ:B  \n",
       "2    Z0:_dR*OQhQlF  \n",
       "3         7#?GLEd0  \n",
       "4        4~1!+LP^O  \n",
       "5  H5OB-]tc|BsEJfc  \n",
       "6         qd7XF[m5  \n",
       "7  4f_N7?%\\C!9sQ6&  \n",
       "8     z*oPtJAxWR_+  \n",
       "9       eZb/+LWH!b  \n",
       "\n",
       "[10 rows x 37 columns]"
      ]
     },
     "execution_count": 3,
     "metadata": {},
     "output_type": "execute_result"
    }
   ],
   "source": [
    "df.head(10)"
   ]
  },
  {
   "cell_type": "code",
   "execution_count": 4,
   "id": "4bcbad25",
   "metadata": {},
   "outputs": [
    {
     "data": {
      "text/plain": [
       "(500000, 37)"
      ]
     },
     "execution_count": 4,
     "metadata": {},
     "output_type": "execute_result"
    }
   ],
   "source": [
    "df.shape"
   ]
  },
  {
   "cell_type": "code",
   "execution_count": 5,
   "id": "4010f763",
   "metadata": {},
   "outputs": [
    {
     "data": {
      "text/plain": [
       "Emp ID                    False\n",
       "Name Prefix               False\n",
       "First Name                False\n",
       "Middle Initial            False\n",
       "Last Name                 False\n",
       "Gender                    False\n",
       "E Mail                    False\n",
       "Father's Name             False\n",
       "Mother's Name             False\n",
       "Mother's Maiden Name      False\n",
       "Date of Birth             False\n",
       "Time of Birth             False\n",
       "Age in Yrs.               False\n",
       "Weight in Kgs.            False\n",
       "Date of Joining           False\n",
       "Quarter of Joining        False\n",
       "Half of Joining           False\n",
       "Year of Joining           False\n",
       "Month of Joining          False\n",
       "Month Name of Joining     False\n",
       "Short Month               False\n",
       "Day of Joining            False\n",
       "DOW of Joining            False\n",
       "Short DOW                 False\n",
       "Age in Company (Years)    False\n",
       "Salary                    False\n",
       "Last % Hike               False\n",
       "SSN                       False\n",
       "Phone No.                 False\n",
       "Place Name                False\n",
       "County                    False\n",
       "City                      False\n",
       "State                     False\n",
       "Zip                       False\n",
       "Region                    False\n",
       "User Name                 False\n",
       "Password                  False\n",
       "dtype: bool"
      ]
     },
     "execution_count": 5,
     "metadata": {},
     "output_type": "execute_result"
    }
   ],
   "source": [
    "df.isnull().any()"
   ]
  },
  {
   "cell_type": "code",
   "execution_count": 6,
   "id": "542d492a",
   "metadata": {},
   "outputs": [
    {
     "data": {
      "text/plain": [
       "Index(['Emp ID', 'Name Prefix', 'First Name', 'Middle Initial', 'Last Name',\n",
       "       'Gender', 'E Mail', 'Father's Name', 'Mother's Name',\n",
       "       'Mother's Maiden Name', 'Date of Birth', 'Time of Birth', 'Age in Yrs.',\n",
       "       'Weight in Kgs.', 'Date of Joining', 'Quarter of Joining',\n",
       "       'Half of Joining', 'Year of Joining', 'Month of Joining',\n",
       "       'Month Name of Joining', 'Short Month', 'Day of Joining',\n",
       "       'DOW of Joining', 'Short DOW', 'Age in Company (Years)', 'Salary',\n",
       "       'Last % Hike', 'SSN', 'Phone No. ', 'Place Name', 'County', 'City',\n",
       "       'State', 'Zip', 'Region', 'User Name', 'Password'],\n",
       "      dtype='object')"
      ]
     },
     "execution_count": 6,
     "metadata": {},
     "output_type": "execute_result"
    }
   ],
   "source": [
    "df.columns"
   ]
  },
  {
   "cell_type": "code",
   "execution_count": 7,
   "id": "14ecbd23",
   "metadata": {},
   "outputs": [],
   "source": [
    "df2=df.copy()"
   ]
  },
  {
   "cell_type": "code",
   "execution_count": 8,
   "id": "0280a844",
   "metadata": {},
   "outputs": [
    {
     "data": {
      "text/plain": [
       "Washington       3831\n",
       "Houston          2257\n",
       "New York City    1926\n",
       "El Paso          1776\n",
       "Dallas           1618\n",
       "                 ... \n",
       "Carmichaels         2\n",
       "Mullan              2\n",
       "Tallevast           1\n",
       "Statenville         1\n",
       "South Jordan        1\n",
       "Name: City, Length: 19206, dtype: int64"
      ]
     },
     "execution_count": 8,
     "metadata": {},
     "output_type": "execute_result"
    }
   ],
   "source": [
    "df2['City'].value_counts()"
   ]
  },
  {
   "cell_type": "code",
   "execution_count": 9,
   "id": "74e8c113",
   "metadata": {},
   "outputs": [
    {
     "data": {
      "text/plain": [
       "CA    31884\n",
       "TX    31472\n",
       "NY    26540\n",
       "PA    25774\n",
       "IL    18819\n",
       "FL    17878\n",
       "OH    16842\n",
       "VA    15681\n",
       "MI    13910\n",
       "MO    13791\n",
       "KY    13359\n",
       "NC    12787\n",
       "IA    12704\n",
       "MN    12337\n",
       "GA    12266\n",
       "IN    11695\n",
       "WV    11610\n",
       "WI    10831\n",
       "AL     9980\n",
       "TN     9261\n",
       "OK     9247\n",
       "KS     9163\n",
       "MA     8735\n",
       "WA     8613\n",
       "NJ     8532\n",
       "LA     8516\n",
       "AR     8394\n",
       "CO     7934\n",
       "MD     7406\n",
       "NE     7389\n",
       "MS     6382\n",
       "SC     6371\n",
       "AZ     6364\n",
       "ME     5995\n",
       "OR     5742\n",
       "CT     5190\n",
       "ND     5091\n",
       "NM     5007\n",
       "SD     4948\n",
       "MT     4629\n",
       "UT     4174\n",
       "ID     3852\n",
       "DC     3572\n",
       "VT     3564\n",
       "NH     3404\n",
       "AK     3142\n",
       "NV     3060\n",
       "WY     2357\n",
       "HI     1593\n",
       "DE     1144\n",
       "RI     1069\n",
       "Name: State, dtype: int64"
      ]
     },
     "execution_count": 9,
     "metadata": {},
     "output_type": "execute_result"
    }
   ],
   "source": [
    "df2['State'].value_counts()"
   ]
  },
  {
   "cell_type": "code",
   "execution_count": 10,
   "id": "9082145c",
   "metadata": {},
   "outputs": [
    {
     "data": {
      "text/plain": [
       "Washington       3831\n",
       "Houston          2257\n",
       "New York City    1926\n",
       "El Paso          1776\n",
       "Dallas           1618\n",
       "                 ... \n",
       "Carmichaels         2\n",
       "Mullan              2\n",
       "Tallevast           1\n",
       "Statenville         1\n",
       "South Jordan        1\n",
       "Name: Place Name, Length: 19206, dtype: int64"
      ]
     },
     "execution_count": 10,
     "metadata": {},
     "output_type": "execute_result"
    }
   ],
   "source": [
    "df2['Place Name'].value_counts()"
   ]
  },
  {
   "cell_type": "code",
   "execution_count": 11,
   "id": "1776c5bb",
   "metadata": {},
   "outputs": [
    {
     "data": {
      "text/html": [
       "<div>\n",
       "<style scoped>\n",
       "    .dataframe tbody tr th:only-of-type {\n",
       "        vertical-align: middle;\n",
       "    }\n",
       "\n",
       "    .dataframe tbody tr th {\n",
       "        vertical-align: top;\n",
       "    }\n",
       "\n",
       "    .dataframe thead th {\n",
       "        text-align: right;\n",
       "    }\n",
       "</style>\n",
       "<table border=\"1\" class=\"dataframe\">\n",
       "  <thead>\n",
       "    <tr style=\"text-align: right;\">\n",
       "      <th></th>\n",
       "      <th>Emp ID</th>\n",
       "      <th>Name Prefix</th>\n",
       "      <th>First Name</th>\n",
       "      <th>Middle Initial</th>\n",
       "      <th>Last Name</th>\n",
       "      <th>Gender</th>\n",
       "      <th>E Mail</th>\n",
       "      <th>Father's Name</th>\n",
       "      <th>Mother's Name</th>\n",
       "      <th>Mother's Maiden Name</th>\n",
       "      <th>...</th>\n",
       "      <th>SSN</th>\n",
       "      <th>Phone No.</th>\n",
       "      <th>Place Name</th>\n",
       "      <th>County</th>\n",
       "      <th>City</th>\n",
       "      <th>State</th>\n",
       "      <th>Zip</th>\n",
       "      <th>Region</th>\n",
       "      <th>User Name</th>\n",
       "      <th>Password</th>\n",
       "    </tr>\n",
       "  </thead>\n",
       "  <tbody>\n",
       "    <tr>\n",
       "      <th>0</th>\n",
       "      <td>857211</td>\n",
       "      <td>Ms.</td>\n",
       "      <td>Hermila</td>\n",
       "      <td>J</td>\n",
       "      <td>Suhr</td>\n",
       "      <td>F</td>\n",
       "      <td>hermila.suhr@gmail.com</td>\n",
       "      <td>Todd Suhr</td>\n",
       "      <td>Cathrine Suhr</td>\n",
       "      <td>Hinojosa</td>\n",
       "      <td>...</td>\n",
       "      <td>275-17-8844</td>\n",
       "      <td>479-539-4593</td>\n",
       "      <td>Peach Orchard</td>\n",
       "      <td>Clay</td>\n",
       "      <td>Peach Orchard</td>\n",
       "      <td>AR</td>\n",
       "      <td>72453</td>\n",
       "      <td>South</td>\n",
       "      <td>hjsuhr</td>\n",
       "      <td>oZ%{&lt;6wN!A</td>\n",
       "    </tr>\n",
       "    <tr>\n",
       "      <th>1</th>\n",
       "      <td>514341</td>\n",
       "      <td>Mr.</td>\n",
       "      <td>Antonio</td>\n",
       "      <td>Q</td>\n",
       "      <td>Joy</td>\n",
       "      <td>M</td>\n",
       "      <td>antonio.joy@yahoo.com</td>\n",
       "      <td>Clark Joy</td>\n",
       "      <td>Clarisa Joy</td>\n",
       "      <td>Gagliardi</td>\n",
       "      <td>...</td>\n",
       "      <td>646-23-6213</td>\n",
       "      <td>229-234-6154</td>\n",
       "      <td>Rocky Ford</td>\n",
       "      <td>Screven</td>\n",
       "      <td>Rocky Ford</td>\n",
       "      <td>GA</td>\n",
       "      <td>30455</td>\n",
       "      <td>South</td>\n",
       "      <td>aqjoy</td>\n",
       "      <td>7_[%FE;saZ:B</td>\n",
       "    </tr>\n",
       "    <tr>\n",
       "      <th>2</th>\n",
       "      <td>314598</td>\n",
       "      <td>Prof.</td>\n",
       "      <td>Sebastian</td>\n",
       "      <td>J</td>\n",
       "      <td>Moores</td>\n",
       "      <td>M</td>\n",
       "      <td>sebastian.moores@ibm.com</td>\n",
       "      <td>Everette Moores</td>\n",
       "      <td>Sol Moores</td>\n",
       "      <td>Paden</td>\n",
       "      <td>...</td>\n",
       "      <td>499-29-8139</td>\n",
       "      <td>212-231-9912</td>\n",
       "      <td>Antwerp</td>\n",
       "      <td>Jefferson</td>\n",
       "      <td>Antwerp</td>\n",
       "      <td>NY</td>\n",
       "      <td>13608</td>\n",
       "      <td>Northeast</td>\n",
       "      <td>sjmoores</td>\n",
       "      <td>Z0:_dR*OQhQlF</td>\n",
       "    </tr>\n",
       "    <tr>\n",
       "      <th>3</th>\n",
       "      <td>987773</td>\n",
       "      <td>Mr.</td>\n",
       "      <td>Alec</td>\n",
       "      <td>S</td>\n",
       "      <td>Rittenhouse</td>\n",
       "      <td>M</td>\n",
       "      <td>alec.rittenhouse@gmail.com</td>\n",
       "      <td>Jefferey Rittenhouse</td>\n",
       "      <td>Moira Rittenhouse</td>\n",
       "      <td>Clanton</td>\n",
       "      <td>...</td>\n",
       "      <td>204-84-0943</td>\n",
       "      <td>229-873-6796</td>\n",
       "      <td>Milledgeville</td>\n",
       "      <td>Milledgeville</td>\n",
       "      <td>Milledgeville</td>\n",
       "      <td>GA</td>\n",
       "      <td>31059</td>\n",
       "      <td>South</td>\n",
       "      <td>asrittenhouse</td>\n",
       "      <td>7#?GLEd0</td>\n",
       "    </tr>\n",
       "    <tr>\n",
       "      <th>4</th>\n",
       "      <td>690850</td>\n",
       "      <td>Mr.</td>\n",
       "      <td>Reggie</td>\n",
       "      <td>C</td>\n",
       "      <td>Doughty</td>\n",
       "      <td>M</td>\n",
       "      <td>reggie.doughty@gmail.com</td>\n",
       "      <td>Jerrod Doughty</td>\n",
       "      <td>Crista Doughty</td>\n",
       "      <td>Abron</td>\n",
       "      <td>...</td>\n",
       "      <td>321-11-0416</td>\n",
       "      <td>314-677-4501</td>\n",
       "      <td>Springfield</td>\n",
       "      <td>Greene</td>\n",
       "      <td>Springfield</td>\n",
       "      <td>MO</td>\n",
       "      <td>65809</td>\n",
       "      <td>Midwest</td>\n",
       "      <td>rcdoughty</td>\n",
       "      <td>4~1!+LP^O</td>\n",
       "    </tr>\n",
       "    <tr>\n",
       "      <th>...</th>\n",
       "      <td>...</td>\n",
       "      <td>...</td>\n",
       "      <td>...</td>\n",
       "      <td>...</td>\n",
       "      <td>...</td>\n",
       "      <td>...</td>\n",
       "      <td>...</td>\n",
       "      <td>...</td>\n",
       "      <td>...</td>\n",
       "      <td>...</td>\n",
       "      <td>...</td>\n",
       "      <td>...</td>\n",
       "      <td>...</td>\n",
       "      <td>...</td>\n",
       "      <td>...</td>\n",
       "      <td>...</td>\n",
       "      <td>...</td>\n",
       "      <td>...</td>\n",
       "      <td>...</td>\n",
       "      <td>...</td>\n",
       "      <td>...</td>\n",
       "    </tr>\n",
       "    <tr>\n",
       "      <th>499995</th>\n",
       "      <td>957337</td>\n",
       "      <td>Ms.</td>\n",
       "      <td>Doreen</td>\n",
       "      <td>R</td>\n",
       "      <td>Baisden</td>\n",
       "      <td>F</td>\n",
       "      <td>doreen.baisden@gmail.com</td>\n",
       "      <td>Earle Baisden</td>\n",
       "      <td>Rhonda Baisden</td>\n",
       "      <td>Garmon</td>\n",
       "      <td>...</td>\n",
       "      <td>527-99-1115</td>\n",
       "      <td>239-354-9713</td>\n",
       "      <td>Oviedo</td>\n",
       "      <td>Seminole</td>\n",
       "      <td>Oviedo</td>\n",
       "      <td>FL</td>\n",
       "      <td>32762</td>\n",
       "      <td>South</td>\n",
       "      <td>drbaisden</td>\n",
       "      <td>20b\\!jYn7?cV3]z</td>\n",
       "    </tr>\n",
       "    <tr>\n",
       "      <th>499996</th>\n",
       "      <td>745592</td>\n",
       "      <td>Mrs.</td>\n",
       "      <td>Kecia</td>\n",
       "      <td>J</td>\n",
       "      <td>Santiago</td>\n",
       "      <td>F</td>\n",
       "      <td>kecia.santiago@gmail.com</td>\n",
       "      <td>Adam Santiago</td>\n",
       "      <td>Jocelyn Santiago</td>\n",
       "      <td>Raffa</td>\n",
       "      <td>...</td>\n",
       "      <td>151-23-4853</td>\n",
       "      <td>304-758-5678</td>\n",
       "      <td>Piney View</td>\n",
       "      <td>Raleigh</td>\n",
       "      <td>Piney View</td>\n",
       "      <td>WV</td>\n",
       "      <td>25906</td>\n",
       "      <td>South</td>\n",
       "      <td>kjsantiago</td>\n",
       "      <td>nttgmPTt;v.h</td>\n",
       "    </tr>\n",
       "    <tr>\n",
       "      <th>499997</th>\n",
       "      <td>192620</td>\n",
       "      <td>Mrs.</td>\n",
       "      <td>Jestine</td>\n",
       "      <td>T</td>\n",
       "      <td>Sugg</td>\n",
       "      <td>F</td>\n",
       "      <td>jestine.sugg@aol.com</td>\n",
       "      <td>Neal Sugg</td>\n",
       "      <td>Barrie Sugg</td>\n",
       "      <td>Sorrell</td>\n",
       "      <td>...</td>\n",
       "      <td>731-28-9773</td>\n",
       "      <td>218-661-8511</td>\n",
       "      <td>Brooten</td>\n",
       "      <td>Stearns</td>\n",
       "      <td>Brooten</td>\n",
       "      <td>MN</td>\n",
       "      <td>56316</td>\n",
       "      <td>Midwest</td>\n",
       "      <td>jtsugg</td>\n",
       "      <td>M#p8|HJ$.</td>\n",
       "    </tr>\n",
       "    <tr>\n",
       "      <th>499998</th>\n",
       "      <td>249486</td>\n",
       "      <td>Mr.</td>\n",
       "      <td>Johnson</td>\n",
       "      <td>N</td>\n",
       "      <td>Mclelland</td>\n",
       "      <td>M</td>\n",
       "      <td>johnson.mclelland@gmail.com</td>\n",
       "      <td>Rudy Mclelland</td>\n",
       "      <td>Melony Mclelland</td>\n",
       "      <td>Tapscott</td>\n",
       "      <td>...</td>\n",
       "      <td>068-02-0503</td>\n",
       "      <td>480-662-6697</td>\n",
       "      <td>Forest Lakes</td>\n",
       "      <td>Coconino</td>\n",
       "      <td>Forest Lakes</td>\n",
       "      <td>AZ</td>\n",
       "      <td>85931</td>\n",
       "      <td>West</td>\n",
       "      <td>jnmclelland</td>\n",
       "      <td>kq8o$uQl/PJ@</td>\n",
       "    </tr>\n",
       "    <tr>\n",
       "      <th>499999</th>\n",
       "      <td>829485</td>\n",
       "      <td>Dr.</td>\n",
       "      <td>Rob</td>\n",
       "      <td>T</td>\n",
       "      <td>Swoope</td>\n",
       "      <td>M</td>\n",
       "      <td>rob.swoope@gmail.com</td>\n",
       "      <td>Titus Swoope</td>\n",
       "      <td>Rebbeca Swoope</td>\n",
       "      <td>Perrone</td>\n",
       "      <td>...</td>\n",
       "      <td>080-02-0094</td>\n",
       "      <td>215-889-9781</td>\n",
       "      <td>Moshannon</td>\n",
       "      <td>Centre</td>\n",
       "      <td>Moshannon</td>\n",
       "      <td>PA</td>\n",
       "      <td>16859</td>\n",
       "      <td>Northeast</td>\n",
       "      <td>rtswoope</td>\n",
       "      <td>lE/^}Clt</td>\n",
       "    </tr>\n",
       "  </tbody>\n",
       "</table>\n",
       "<p>500000 rows × 37 columns</p>\n",
       "</div>"
      ],
      "text/plain": [
       "        Emp ID Name Prefix First Name Middle Initial    Last Name Gender  \\\n",
       "0       857211         Ms.    Hermila              J         Suhr      F   \n",
       "1       514341         Mr.    Antonio              Q          Joy      M   \n",
       "2       314598       Prof.  Sebastian              J       Moores      M   \n",
       "3       987773         Mr.       Alec              S  Rittenhouse      M   \n",
       "4       690850         Mr.     Reggie              C      Doughty      M   \n",
       "...        ...         ...        ...            ...          ...    ...   \n",
       "499995  957337         Ms.     Doreen              R      Baisden      F   \n",
       "499996  745592        Mrs.      Kecia              J     Santiago      F   \n",
       "499997  192620        Mrs.    Jestine              T         Sugg      F   \n",
       "499998  249486         Mr.    Johnson              N    Mclelland      M   \n",
       "499999  829485         Dr.        Rob              T       Swoope      M   \n",
       "\n",
       "                             E Mail         Father's Name      Mother's Name  \\\n",
       "0            hermila.suhr@gmail.com             Todd Suhr      Cathrine Suhr   \n",
       "1             antonio.joy@yahoo.com             Clark Joy        Clarisa Joy   \n",
       "2          sebastian.moores@ibm.com       Everette Moores         Sol Moores   \n",
       "3        alec.rittenhouse@gmail.com  Jefferey Rittenhouse  Moira Rittenhouse   \n",
       "4          reggie.doughty@gmail.com        Jerrod Doughty     Crista Doughty   \n",
       "...                             ...                   ...                ...   \n",
       "499995     doreen.baisden@gmail.com         Earle Baisden     Rhonda Baisden   \n",
       "499996     kecia.santiago@gmail.com         Adam Santiago   Jocelyn Santiago   \n",
       "499997         jestine.sugg@aol.com             Neal Sugg        Barrie Sugg   \n",
       "499998  johnson.mclelland@gmail.com        Rudy Mclelland   Melony Mclelland   \n",
       "499999         rob.swoope@gmail.com          Titus Swoope     Rebbeca Swoope   \n",
       "\n",
       "       Mother's Maiden Name  ...          SSN    Phone No.      Place Name  \\\n",
       "0                  Hinojosa  ...  275-17-8844  479-539-4593  Peach Orchard   \n",
       "1                 Gagliardi  ...  646-23-6213  229-234-6154     Rocky Ford   \n",
       "2                     Paden  ...  499-29-8139  212-231-9912        Antwerp   \n",
       "3                   Clanton  ...  204-84-0943  229-873-6796  Milledgeville   \n",
       "4                     Abron  ...  321-11-0416  314-677-4501    Springfield   \n",
       "...                     ...  ...          ...           ...            ...   \n",
       "499995               Garmon  ...  527-99-1115  239-354-9713         Oviedo   \n",
       "499996                Raffa  ...  151-23-4853  304-758-5678     Piney View   \n",
       "499997              Sorrell  ...  731-28-9773  218-661-8511        Brooten   \n",
       "499998             Tapscott  ...  068-02-0503  480-662-6697   Forest Lakes   \n",
       "499999              Perrone  ...  080-02-0094  215-889-9781      Moshannon   \n",
       "\n",
       "               County           City State    Zip     Region      User Name  \\\n",
       "0                Clay  Peach Orchard    AR  72453      South         hjsuhr   \n",
       "1             Screven     Rocky Ford    GA  30455      South          aqjoy   \n",
       "2           Jefferson        Antwerp    NY  13608  Northeast       sjmoores   \n",
       "3       Milledgeville  Milledgeville    GA  31059      South  asrittenhouse   \n",
       "4              Greene    Springfield    MO  65809    Midwest      rcdoughty   \n",
       "...               ...            ...   ...    ...        ...            ...   \n",
       "499995       Seminole         Oviedo    FL  32762      South      drbaisden   \n",
       "499996        Raleigh     Piney View    WV  25906      South     kjsantiago   \n",
       "499997        Stearns        Brooten    MN  56316    Midwest         jtsugg   \n",
       "499998       Coconino   Forest Lakes    AZ  85931       West    jnmclelland   \n",
       "499999         Centre      Moshannon    PA  16859  Northeast       rtswoope   \n",
       "\n",
       "               Password  \n",
       "0            oZ%{<6wN!A  \n",
       "1          7_[%FE;saZ:B  \n",
       "2         Z0:_dR*OQhQlF  \n",
       "3              7#?GLEd0  \n",
       "4             4~1!+LP^O  \n",
       "...                 ...  \n",
       "499995  20b\\!jYn7?cV3]z  \n",
       "499996     nttgmPTt;v.h  \n",
       "499997        M#p8|HJ$.  \n",
       "499998     kq8o$uQl/PJ@  \n",
       "499999         lE/^}Clt  \n",
       "\n",
       "[500000 rows x 37 columns]"
      ]
     },
     "execution_count": 11,
     "metadata": {},
     "output_type": "execute_result"
    }
   ],
   "source": [
    "df2"
   ]
  },
  {
   "cell_type": "code",
   "execution_count": 12,
   "id": "ca71ba04",
   "metadata": {},
   "outputs": [],
   "source": [
    "df1=df[['Emp ID','First Name','Gender','Age in Yrs.','Date of Joining','Age in Company (Years)','Salary',\n",
    "       'Last % Hike','City']]"
   ]
  },
  {
   "cell_type": "code",
   "execution_count": 13,
   "id": "8b193a11",
   "metadata": {},
   "outputs": [
    {
     "data": {
      "text/html": [
       "<div>\n",
       "<style scoped>\n",
       "    .dataframe tbody tr th:only-of-type {\n",
       "        vertical-align: middle;\n",
       "    }\n",
       "\n",
       "    .dataframe tbody tr th {\n",
       "        vertical-align: top;\n",
       "    }\n",
       "\n",
       "    .dataframe thead th {\n",
       "        text-align: right;\n",
       "    }\n",
       "</style>\n",
       "<table border=\"1\" class=\"dataframe\">\n",
       "  <thead>\n",
       "    <tr style=\"text-align: right;\">\n",
       "      <th></th>\n",
       "      <th>Emp ID</th>\n",
       "      <th>First Name</th>\n",
       "      <th>Gender</th>\n",
       "      <th>Age in Yrs.</th>\n",
       "      <th>Date of Joining</th>\n",
       "      <th>Age in Company (Years)</th>\n",
       "      <th>Salary</th>\n",
       "      <th>Last % Hike</th>\n",
       "      <th>City</th>\n",
       "    </tr>\n",
       "  </thead>\n",
       "  <tbody>\n",
       "    <tr>\n",
       "      <th>0</th>\n",
       "      <td>857211</td>\n",
       "      <td>Hermila</td>\n",
       "      <td>F</td>\n",
       "      <td>24.91</td>\n",
       "      <td>09-09-2014</td>\n",
       "      <td>2.88</td>\n",
       "      <td>168991</td>\n",
       "      <td>12%</td>\n",
       "      <td>Peach Orchard</td>\n",
       "    </tr>\n",
       "    <tr>\n",
       "      <th>1</th>\n",
       "      <td>514341</td>\n",
       "      <td>Antonio</td>\n",
       "      <td>M</td>\n",
       "      <td>27.61</td>\n",
       "      <td>08-02-2011</td>\n",
       "      <td>5.99</td>\n",
       "      <td>53504</td>\n",
       "      <td>30%</td>\n",
       "      <td>Rocky Ford</td>\n",
       "    </tr>\n",
       "    <tr>\n",
       "      <th>2</th>\n",
       "      <td>314598</td>\n",
       "      <td>Sebastian</td>\n",
       "      <td>M</td>\n",
       "      <td>36.87</td>\n",
       "      <td>04-01-2012</td>\n",
       "      <td>5.33</td>\n",
       "      <td>158859</td>\n",
       "      <td>3%</td>\n",
       "      <td>Antwerp</td>\n",
       "    </tr>\n",
       "    <tr>\n",
       "      <th>3</th>\n",
       "      <td>987773</td>\n",
       "      <td>Alec</td>\n",
       "      <td>M</td>\n",
       "      <td>43.19</td>\n",
       "      <td>3/19/1998</td>\n",
       "      <td>19.37</td>\n",
       "      <td>76105</td>\n",
       "      <td>2%</td>\n",
       "      <td>Milledgeville</td>\n",
       "    </tr>\n",
       "    <tr>\n",
       "      <th>4</th>\n",
       "      <td>690850</td>\n",
       "      <td>Reggie</td>\n",
       "      <td>M</td>\n",
       "      <td>50.70</td>\n",
       "      <td>01-04-2010</td>\n",
       "      <td>7.57</td>\n",
       "      <td>134436</td>\n",
       "      <td>8%</td>\n",
       "      <td>Springfield</td>\n",
       "    </tr>\n",
       "    <tr>\n",
       "      <th>...</th>\n",
       "      <td>...</td>\n",
       "      <td>...</td>\n",
       "      <td>...</td>\n",
       "      <td>...</td>\n",
       "      <td>...</td>\n",
       "      <td>...</td>\n",
       "      <td>...</td>\n",
       "      <td>...</td>\n",
       "      <td>...</td>\n",
       "    </tr>\n",
       "    <tr>\n",
       "      <th>499995</th>\n",
       "      <td>957337</td>\n",
       "      <td>Doreen</td>\n",
       "      <td>F</td>\n",
       "      <td>29.59</td>\n",
       "      <td>5/22/2009</td>\n",
       "      <td>8.19</td>\n",
       "      <td>134337</td>\n",
       "      <td>7%</td>\n",
       "      <td>Oviedo</td>\n",
       "    </tr>\n",
       "    <tr>\n",
       "      <th>499996</th>\n",
       "      <td>745592</td>\n",
       "      <td>Kecia</td>\n",
       "      <td>F</td>\n",
       "      <td>42.22</td>\n",
       "      <td>09-08-2007</td>\n",
       "      <td>9.89</td>\n",
       "      <td>73157</td>\n",
       "      <td>20%</td>\n",
       "      <td>Piney View</td>\n",
       "    </tr>\n",
       "    <tr>\n",
       "      <th>499997</th>\n",
       "      <td>192620</td>\n",
       "      <td>Jestine</td>\n",
       "      <td>F</td>\n",
       "      <td>37.63</td>\n",
       "      <td>2/28/2002</td>\n",
       "      <td>15.42</td>\n",
       "      <td>102821</td>\n",
       "      <td>19%</td>\n",
       "      <td>Brooten</td>\n",
       "    </tr>\n",
       "    <tr>\n",
       "      <th>499998</th>\n",
       "      <td>249486</td>\n",
       "      <td>Johnson</td>\n",
       "      <td>M</td>\n",
       "      <td>44.16</td>\n",
       "      <td>02-11-2014</td>\n",
       "      <td>3.46</td>\n",
       "      <td>185460</td>\n",
       "      <td>12%</td>\n",
       "      <td>Forest Lakes</td>\n",
       "    </tr>\n",
       "    <tr>\n",
       "      <th>499999</th>\n",
       "      <td>829485</td>\n",
       "      <td>Rob</td>\n",
       "      <td>M</td>\n",
       "      <td>45.53</td>\n",
       "      <td>11-09-2009</td>\n",
       "      <td>7.72</td>\n",
       "      <td>132652</td>\n",
       "      <td>17%</td>\n",
       "      <td>Moshannon</td>\n",
       "    </tr>\n",
       "  </tbody>\n",
       "</table>\n",
       "<p>500000 rows × 9 columns</p>\n",
       "</div>"
      ],
      "text/plain": [
       "        Emp ID First Name Gender  Age in Yrs. Date of Joining  \\\n",
       "0       857211    Hermila      F        24.91      09-09-2014   \n",
       "1       514341    Antonio      M        27.61      08-02-2011   \n",
       "2       314598  Sebastian      M        36.87      04-01-2012   \n",
       "3       987773       Alec      M        43.19       3/19/1998   \n",
       "4       690850     Reggie      M        50.70      01-04-2010   \n",
       "...        ...        ...    ...          ...             ...   \n",
       "499995  957337     Doreen      F        29.59       5/22/2009   \n",
       "499996  745592      Kecia      F        42.22      09-08-2007   \n",
       "499997  192620    Jestine      F        37.63       2/28/2002   \n",
       "499998  249486    Johnson      M        44.16      02-11-2014   \n",
       "499999  829485        Rob      M        45.53      11-09-2009   \n",
       "\n",
       "        Age in Company (Years)  Salary Last % Hike           City  \n",
       "0                         2.88  168991         12%  Peach Orchard  \n",
       "1                         5.99   53504         30%     Rocky Ford  \n",
       "2                         5.33  158859          3%        Antwerp  \n",
       "3                        19.37   76105          2%  Milledgeville  \n",
       "4                         7.57  134436          8%    Springfield  \n",
       "...                        ...     ...         ...            ...  \n",
       "499995                    8.19  134337          7%         Oviedo  \n",
       "499996                    9.89   73157         20%     Piney View  \n",
       "499997                   15.42  102821         19%        Brooten  \n",
       "499998                    3.46  185460         12%   Forest Lakes  \n",
       "499999                    7.72  132652         17%      Moshannon  \n",
       "\n",
       "[500000 rows x 9 columns]"
      ]
     },
     "execution_count": 13,
     "metadata": {},
     "output_type": "execute_result"
    }
   ],
   "source": [
    "df1"
   ]
  },
  {
   "cell_type": "code",
   "execution_count": 15,
   "id": "0c229a94",
   "metadata": {},
   "outputs": [
    {
     "data": {
      "text/plain": [
       "M    250180\n",
       "F    249820\n",
       "Name: Gender, dtype: int64"
      ]
     },
     "execution_count": 15,
     "metadata": {},
     "output_type": "execute_result"
    }
   ],
   "source": [
    "df2['Gender'].value_counts()"
   ]
  },
  {
   "cell_type": "code",
   "execution_count": null,
   "id": "4e3b1241",
   "metadata": {},
   "outputs": [],
   "source": []
  },
  {
   "cell_type": "code",
   "execution_count": 16,
   "id": "c31ad696",
   "metadata": {},
   "outputs": [
    {
     "data": {
      "text/html": [
       "<div>\n",
       "<style scoped>\n",
       "    .dataframe tbody tr th:only-of-type {\n",
       "        vertical-align: middle;\n",
       "    }\n",
       "\n",
       "    .dataframe tbody tr th {\n",
       "        vertical-align: top;\n",
       "    }\n",
       "\n",
       "    .dataframe thead th {\n",
       "        text-align: right;\n",
       "    }\n",
       "</style>\n",
       "<table border=\"1\" class=\"dataframe\">\n",
       "  <thead>\n",
       "    <tr style=\"text-align: right;\">\n",
       "      <th></th>\n",
       "      <th>Emp ID</th>\n",
       "      <th>Name Prefix</th>\n",
       "      <th>First Name</th>\n",
       "      <th>Middle Initial</th>\n",
       "      <th>Last Name</th>\n",
       "      <th>Gender</th>\n",
       "      <th>E Mail</th>\n",
       "      <th>Father's Name</th>\n",
       "      <th>Mother's Name</th>\n",
       "      <th>Mother's Maiden Name</th>\n",
       "      <th>...</th>\n",
       "      <th>SSN</th>\n",
       "      <th>Phone No.</th>\n",
       "      <th>Place Name</th>\n",
       "      <th>County</th>\n",
       "      <th>City</th>\n",
       "      <th>State</th>\n",
       "      <th>Zip</th>\n",
       "      <th>Region</th>\n",
       "      <th>User Name</th>\n",
       "      <th>Password</th>\n",
       "    </tr>\n",
       "  </thead>\n",
       "  <tbody>\n",
       "    <tr>\n",
       "      <th>0</th>\n",
       "      <td>857211</td>\n",
       "      <td>Ms.</td>\n",
       "      <td>Hermila</td>\n",
       "      <td>J</td>\n",
       "      <td>Suhr</td>\n",
       "      <td>F</td>\n",
       "      <td>hermila.suhr@gmail.com</td>\n",
       "      <td>Todd Suhr</td>\n",
       "      <td>Cathrine Suhr</td>\n",
       "      <td>Hinojosa</td>\n",
       "      <td>...</td>\n",
       "      <td>275-17-8844</td>\n",
       "      <td>479-539-4593</td>\n",
       "      <td>Peach Orchard</td>\n",
       "      <td>Clay</td>\n",
       "      <td>Peach Orchard</td>\n",
       "      <td>AR</td>\n",
       "      <td>72453</td>\n",
       "      <td>South</td>\n",
       "      <td>hjsuhr</td>\n",
       "      <td>oZ%{&lt;6wN!A</td>\n",
       "    </tr>\n",
       "    <tr>\n",
       "      <th>1</th>\n",
       "      <td>514341</td>\n",
       "      <td>Mr.</td>\n",
       "      <td>Antonio</td>\n",
       "      <td>Q</td>\n",
       "      <td>Joy</td>\n",
       "      <td>M</td>\n",
       "      <td>antonio.joy@yahoo.com</td>\n",
       "      <td>Clark Joy</td>\n",
       "      <td>Clarisa Joy</td>\n",
       "      <td>Gagliardi</td>\n",
       "      <td>...</td>\n",
       "      <td>646-23-6213</td>\n",
       "      <td>229-234-6154</td>\n",
       "      <td>Rocky Ford</td>\n",
       "      <td>Screven</td>\n",
       "      <td>Rocky Ford</td>\n",
       "      <td>GA</td>\n",
       "      <td>30455</td>\n",
       "      <td>South</td>\n",
       "      <td>aqjoy</td>\n",
       "      <td>7_[%FE;saZ:B</td>\n",
       "    </tr>\n",
       "    <tr>\n",
       "      <th>2</th>\n",
       "      <td>314598</td>\n",
       "      <td>Prof.</td>\n",
       "      <td>Sebastian</td>\n",
       "      <td>J</td>\n",
       "      <td>Moores</td>\n",
       "      <td>M</td>\n",
       "      <td>sebastian.moores@ibm.com</td>\n",
       "      <td>Everette Moores</td>\n",
       "      <td>Sol Moores</td>\n",
       "      <td>Paden</td>\n",
       "      <td>...</td>\n",
       "      <td>499-29-8139</td>\n",
       "      <td>212-231-9912</td>\n",
       "      <td>Antwerp</td>\n",
       "      <td>Jefferson</td>\n",
       "      <td>Antwerp</td>\n",
       "      <td>NY</td>\n",
       "      <td>13608</td>\n",
       "      <td>Northeast</td>\n",
       "      <td>sjmoores</td>\n",
       "      <td>Z0:_dR*OQhQlF</td>\n",
       "    </tr>\n",
       "    <tr>\n",
       "      <th>3</th>\n",
       "      <td>987773</td>\n",
       "      <td>Mr.</td>\n",
       "      <td>Alec</td>\n",
       "      <td>S</td>\n",
       "      <td>Rittenhouse</td>\n",
       "      <td>M</td>\n",
       "      <td>alec.rittenhouse@gmail.com</td>\n",
       "      <td>Jefferey Rittenhouse</td>\n",
       "      <td>Moira Rittenhouse</td>\n",
       "      <td>Clanton</td>\n",
       "      <td>...</td>\n",
       "      <td>204-84-0943</td>\n",
       "      <td>229-873-6796</td>\n",
       "      <td>Milledgeville</td>\n",
       "      <td>Milledgeville</td>\n",
       "      <td>Milledgeville</td>\n",
       "      <td>GA</td>\n",
       "      <td>31059</td>\n",
       "      <td>South</td>\n",
       "      <td>asrittenhouse</td>\n",
       "      <td>7#?GLEd0</td>\n",
       "    </tr>\n",
       "    <tr>\n",
       "      <th>4</th>\n",
       "      <td>690850</td>\n",
       "      <td>Mr.</td>\n",
       "      <td>Reggie</td>\n",
       "      <td>C</td>\n",
       "      <td>Doughty</td>\n",
       "      <td>M</td>\n",
       "      <td>reggie.doughty@gmail.com</td>\n",
       "      <td>Jerrod Doughty</td>\n",
       "      <td>Crista Doughty</td>\n",
       "      <td>Abron</td>\n",
       "      <td>...</td>\n",
       "      <td>321-11-0416</td>\n",
       "      <td>314-677-4501</td>\n",
       "      <td>Springfield</td>\n",
       "      <td>Greene</td>\n",
       "      <td>Springfield</td>\n",
       "      <td>MO</td>\n",
       "      <td>65809</td>\n",
       "      <td>Midwest</td>\n",
       "      <td>rcdoughty</td>\n",
       "      <td>4~1!+LP^O</td>\n",
       "    </tr>\n",
       "  </tbody>\n",
       "</table>\n",
       "<p>5 rows × 37 columns</p>\n",
       "</div>"
      ],
      "text/plain": [
       "   Emp ID Name Prefix First Name Middle Initial    Last Name Gender  \\\n",
       "0  857211         Ms.    Hermila              J         Suhr      F   \n",
       "1  514341         Mr.    Antonio              Q          Joy      M   \n",
       "2  314598       Prof.  Sebastian              J       Moores      M   \n",
       "3  987773         Mr.       Alec              S  Rittenhouse      M   \n",
       "4  690850         Mr.     Reggie              C      Doughty      M   \n",
       "\n",
       "                       E Mail         Father's Name      Mother's Name  \\\n",
       "0      hermila.suhr@gmail.com             Todd Suhr      Cathrine Suhr   \n",
       "1       antonio.joy@yahoo.com             Clark Joy        Clarisa Joy   \n",
       "2    sebastian.moores@ibm.com       Everette Moores         Sol Moores   \n",
       "3  alec.rittenhouse@gmail.com  Jefferey Rittenhouse  Moira Rittenhouse   \n",
       "4    reggie.doughty@gmail.com        Jerrod Doughty     Crista Doughty   \n",
       "\n",
       "  Mother's Maiden Name  ...          SSN    Phone No.      Place Name  \\\n",
       "0             Hinojosa  ...  275-17-8844  479-539-4593  Peach Orchard   \n",
       "1            Gagliardi  ...  646-23-6213  229-234-6154     Rocky Ford   \n",
       "2                Paden  ...  499-29-8139  212-231-9912        Antwerp   \n",
       "3              Clanton  ...  204-84-0943  229-873-6796  Milledgeville   \n",
       "4                Abron  ...  321-11-0416  314-677-4501    Springfield   \n",
       "\n",
       "          County           City State    Zip     Region      User Name  \\\n",
       "0           Clay  Peach Orchard    AR  72453      South         hjsuhr   \n",
       "1        Screven     Rocky Ford    GA  30455      South          aqjoy   \n",
       "2      Jefferson        Antwerp    NY  13608  Northeast       sjmoores   \n",
       "3  Milledgeville  Milledgeville    GA  31059      South  asrittenhouse   \n",
       "4         Greene    Springfield    MO  65809    Midwest      rcdoughty   \n",
       "\n",
       "        Password  \n",
       "0     oZ%{<6wN!A  \n",
       "1   7_[%FE;saZ:B  \n",
       "2  Z0:_dR*OQhQlF  \n",
       "3       7#?GLEd0  \n",
       "4      4~1!+LP^O  \n",
       "\n",
       "[5 rows x 37 columns]"
      ]
     },
     "execution_count": 16,
     "metadata": {},
     "output_type": "execute_result"
    }
   ],
   "source": [
    "df2.head()"
   ]
  },
  {
   "cell_type": "code",
   "execution_count": 17,
   "id": "93581ba7",
   "metadata": {},
   "outputs": [
    {
     "data": {
      "text/plain": [
       "0         24\n",
       "1         27\n",
       "2         36\n",
       "3         43\n",
       "4         50\n",
       "          ..\n",
       "499995    29\n",
       "499996    42\n",
       "499997    37\n",
       "499998    44\n",
       "499999    45\n",
       "Name: Age in Yrs., Length: 500000, dtype: int32"
      ]
     },
     "execution_count": 17,
     "metadata": {},
     "output_type": "execute_result"
    }
   ],
   "source": [
    "df2['Age in Yrs.'].astype(int)"
   ]
  },
  {
   "cell_type": "code",
   "execution_count": 18,
   "id": "07764648",
   "metadata": {},
   "outputs": [],
   "source": [
    "df2.rename(columns = {'Age in Yrs.':'Age', 'Age in Company (Years)':'Experience'}, inplace = True)"
   ]
  },
  {
   "cell_type": "code",
   "execution_count": 19,
   "id": "7ed0538f",
   "metadata": {},
   "outputs": [
    {
     "data": {
      "text/plain": [
       "Index(['Emp ID', 'Name Prefix', 'First Name', 'Middle Initial', 'Last Name',\n",
       "       'Gender', 'E Mail', 'Father's Name', 'Mother's Name',\n",
       "       'Mother's Maiden Name', 'Date of Birth', 'Time of Birth', 'Age',\n",
       "       'Weight in Kgs.', 'Date of Joining', 'Quarter of Joining',\n",
       "       'Half of Joining', 'Year of Joining', 'Month of Joining',\n",
       "       'Month Name of Joining', 'Short Month', 'Day of Joining',\n",
       "       'DOW of Joining', 'Short DOW', 'Experience', 'Salary', 'Last % Hike',\n",
       "       'SSN', 'Phone No. ', 'Place Name', 'County', 'City', 'State', 'Zip',\n",
       "       'Region', 'User Name', 'Password'],\n",
       "      dtype='object')"
      ]
     },
     "execution_count": 19,
     "metadata": {},
     "output_type": "execute_result"
    }
   ],
   "source": [
    "df2.columns"
   ]
  },
  {
   "cell_type": "code",
   "execution_count": 20,
   "id": "9aef6e37",
   "metadata": {},
   "outputs": [
    {
     "name": "stdout",
     "output_type": "stream",
     "text": [
      "<class 'pandas.core.frame.DataFrame'>\n",
      "RangeIndex: 500000 entries, 0 to 499999\n",
      "Data columns (total 37 columns):\n",
      " #   Column                 Non-Null Count   Dtype  \n",
      "---  ------                 --------------   -----  \n",
      " 0   Emp ID                 500000 non-null  int64  \n",
      " 1   Name Prefix            500000 non-null  object \n",
      " 2   First Name             500000 non-null  object \n",
      " 3   Middle Initial         500000 non-null  object \n",
      " 4   Last Name              500000 non-null  object \n",
      " 5   Gender                 500000 non-null  object \n",
      " 6   E Mail                 500000 non-null  object \n",
      " 7   Father's Name          500000 non-null  object \n",
      " 8   Mother's Name          500000 non-null  object \n",
      " 9   Mother's Maiden Name   500000 non-null  object \n",
      " 10  Date of Birth          500000 non-null  object \n",
      " 11  Time of Birth          500000 non-null  object \n",
      " 12  Age                    500000 non-null  float64\n",
      " 13  Weight in Kgs.         500000 non-null  int64  \n",
      " 14  Date of Joining        500000 non-null  object \n",
      " 15  Quarter of Joining     500000 non-null  object \n",
      " 16  Half of Joining        500000 non-null  object \n",
      " 17  Year of Joining        500000 non-null  int64  \n",
      " 18  Month of Joining       500000 non-null  int64  \n",
      " 19  Month Name of Joining  500000 non-null  object \n",
      " 20  Short Month            500000 non-null  object \n",
      " 21  Day of Joining         500000 non-null  int64  \n",
      " 22  DOW of Joining         500000 non-null  object \n",
      " 23  Short DOW              500000 non-null  object \n",
      " 24  Experience             500000 non-null  float64\n",
      " 25  Salary                 500000 non-null  int64  \n",
      " 26  Last % Hike            500000 non-null  object \n",
      " 27  SSN                    500000 non-null  object \n",
      " 28  Phone No.              500000 non-null  object \n",
      " 29  Place Name             500000 non-null  object \n",
      " 30  County                 500000 non-null  object \n",
      " 31  City                   500000 non-null  object \n",
      " 32  State                  500000 non-null  object \n",
      " 33  Zip                    500000 non-null  int64  \n",
      " 34  Region                 500000 non-null  object \n",
      " 35  User Name              500000 non-null  object \n",
      " 36  Password               500000 non-null  object \n",
      "dtypes: float64(2), int64(7), object(28)\n",
      "memory usage: 141.1+ MB\n"
     ]
    }
   ],
   "source": [
    "df2.info()"
   ]
  },
  {
   "cell_type": "markdown",
   "id": "7336665b",
   "metadata": {},
   "source": [
    "#Data Visualization"
   ]
  },
  {
   "cell_type": "code",
   "execution_count": 21,
   "id": "1c477383",
   "metadata": {},
   "outputs": [
    {
     "data": {
      "text/plain": [
       "<AxesSubplot:xlabel='Gender', ylabel='Age'>"
      ]
     },
     "execution_count": 21,
     "metadata": {},
     "output_type": "execute_result"
    },
    {
     "data": {
      "image/png": "[encoded data removed]",
      "text/plain": [
       "<Figure size 432x288 with 1 Axes>"
      ]
     },
     "metadata": {
      "needs_background": "light"
     },
     "output_type": "display_data"
    }
   ],
   "source": [
    "#Bar plot showing Gender v/s Age\n",
    "sns.barplot(x='Gender',y='Age',data=df2)"
   ]
  },
  {
   "cell_type": "code",
   "execution_count": 22,
   "id": "68d42b9b",
   "metadata": {},
   "outputs": [
    {
     "data": {
      "image/png": "[encoded data removed]",
      "text/plain": [
       "<Figure size 432x288 with 1 Axes>"
      ]
     },
     "metadata": {
      "needs_background": "light"
     },
     "output_type": "display_data"
    },
    {
     "data": {
      "text/plain": [
       "<Figure size 504x504 with 0 Axes>"
      ]
     },
     "metadata": {},
     "output_type": "display_data"
    }
   ],
   "source": [
    "#Boxplot showingOutliers in Age\n",
    "plt.boxplot(df2['Age'])\n",
    "fig = plt.figure(figsize =(7, 7))\n",
    "plt.show()"
   ]
  },
  {
   "cell_type": "code",
   "execution_count": 23,
   "id": "1fe68fff",
   "metadata": {},
   "outputs": [
    {
     "data": {
      "image/png": "[encoded data removed]",
      "text/plain": [
       "<Figure size 432x288 with 1 Axes>"
      ]
     },
     "metadata": {
      "needs_background": "light"
     },
     "output_type": "display_data"
    }
   ],
   "source": [
    "#Histogram for age distribution\n",
    "plt.hist(df2['Age'])\n",
    "plt.xlabel('Age')\n",
    "plt.ylabel('Count')\n",
    "plt.rcParams['figure.figsize']=(7,8)\n",
    "plt.xticks(np.arange(20,100,5))\n",
    "plt.title(\"Age Distrbution\")\n",
    "plt.show()\n"
   ]
  },
  {
   "cell_type": "code",
   "execution_count": 24,
   "id": "43ecc084",
   "metadata": {},
   "outputs": [
    {
     "data": {
      "image/png": "[encoded data removed]",
      "text/plain": [
       "<Figure size 504x576 with 1 Axes>"
      ]
     },
     "metadata": {},
     "output_type": "display_data"
    }
   ],
   "source": [
    "#Pie chart represeting experience\n",
    "df2['Experience'].value_counts().plot(kind='pie')\n",
    "plt.rcParams['figure.figsize']=(7,8)\n",
    "plt.show()"
   ]
  },
  {
   "cell_type": "code",
   "execution_count": 25,
   "id": "b380d1fb",
   "metadata": {},
   "outputs": [
    {
     "data": {
      "image/png": "[encoded data removed]",
      "text/plain": [
       "<Figure size 504x576 with 1 Axes>"
      ]
     },
     "metadata": {},
     "output_type": "display_data"
    }
   ],
   "source": [
    "#Pie chart showing population in various states\n",
    "df2['State'].value_counts().plot(kind='pie')\n",
    "plt.rcParams['figure.figsize']=(10,15)\n",
    "plt.show()"
   ]
  },
  {
   "cell_type": "code",
   "execution_count": 26,
   "id": "f34bb233",
   "metadata": {},
   "outputs": [
    {
     "data": {
      "image/png": "[encoded data removed]",
      "text/plain": [
       "<Figure size 720x1080 with 1 Axes>"
      ]
     },
     "metadata": {
      "needs_background": "light"
     },
     "output_type": "display_data"
    }
   ],
   "source": [
    "#Barplot showing year of joining v/s count of employees\n",
    "df2['Year of Joining'].value_counts().plot(kind='bar')\n",
    "plt.rcParams['figure.figsize']=(10,5)\n",
    "plt.show()"
   ]
  },
  {
   "cell_type": "code",
   "execution_count": 27,
   "id": "11677a8b",
   "metadata": {},
   "outputs": [
    {
     "data": {
      "image/png": "[encoded data removed]",
      "text/plain": [
       "<Figure size 720x360 with 1 Axes>"
      ]
     },
     "metadata": {
      "needs_background": "light"
     },
     "output_type": "display_data"
    }
   ],
   "source": [
    "#scatter plot of Salary v/s Experience\n",
    "plt.scatter(df2['Experience'],df2['Salary'])\n",
    "plt.xlabel('Years of ExperieAnce')\n",
    "plt.ylabel('Salary')\n",
    "plt.rcParams['figure.figsize']=(10,5)\n",
    "plt.show()"
   ]
  },
  {
   "cell_type": "code",
   "execution_count": 28,
   "id": "7ce727c0",
   "metadata": {},
   "outputs": [
    {
     "data": {
      "image/png": "[encoded data removed]",
      "text/plain": [
       "<Figure size 720x360 with 1 Axes>"
      ]
     },
     "metadata": {
      "needs_background": "light"
     },
     "output_type": "display_data"
    },
    {
     "data": {
      "text/plain": [
       "<Figure size 504x504 with 0 Axes>"
      ]
     },
     "metadata": {},
     "output_type": "display_data"
    }
   ],
   "source": [
    "#barplot showing Gender v/s Salary\n",
    "sns.barplot(x='Gender',y='Salary',data=df2)\n",
    "fig = plt.figure(figsize =(7, 7))"
   ]
  },
  {
   "cell_type": "code",
   "execution_count": 29,
   "id": "334add97",
   "metadata": {},
   "outputs": [],
   "source": [
    "df2['Last % Hike']=df2['Last % Hike'].str.replace(r'%', r'.0').astype('float') / 100.0"
   ]
  },
  {
   "cell_type": "code",
   "execution_count": 30,
   "id": "3f3b655d",
   "metadata": {},
   "outputs": [
    {
     "data": {
      "image/png": "[encoded data removed]",
      "text/plain": [
       "<Figure size 720x360 with 1 Axes>"
      ]
     },
     "metadata": {
      "needs_background": "light"
     },
     "output_type": "display_data"
    },
    {
     "data": {
      "text/plain": [
       "<Figure size 504x504 with 0 Axes>"
      ]
     },
     "metadata": {},
     "output_type": "display_data"
    }
   ],
   "source": [
    "# Boxplot showing outliers in hike column\n",
    "plt.boxplot(df2['Last % Hike'])\n",
    "fig = plt.figure(figsize =(7, 7))\n",
    "plt.show()"
   ]
  },
  {
   "cell_type": "code",
   "execution_count": 31,
   "id": "d4fe40e8",
   "metadata": {},
   "outputs": [
    {
     "data": {
      "image/png": "[encoded data removed]",
      "text/plain": [
       "<Figure size 720x360 with 1 Axes>"
      ]
     },
     "metadata": {},
     "output_type": "display_data"
    }
   ],
   "source": [
    "#Pie chart showing Gender category\n",
    "df2['Gender'].value_counts().plot(kind='pie')\n",
    "plt.rcParams['figure.figsize']=(10,15)\n",
    "plt.show()"
   ]
  },
  {
   "cell_type": "code",
   "execution_count": 32,
   "id": "b0d44f3c",
   "metadata": {},
   "outputs": [],
   "source": [
    "#PreProcessing"
   ]
  },
  {
   "cell_type": "code",
   "execution_count": 33,
   "id": "4eb1396f",
   "metadata": {},
   "outputs": [
    {
     "data": {
      "text/plain": [
       "Emp ID                    False\n",
       "Name Prefix               False\n",
       "First Name                False\n",
       "Middle Initial            False\n",
       "Last Name                 False\n",
       "Gender                    False\n",
       "E Mail                    False\n",
       "Father's Name             False\n",
       "Mother's Name             False\n",
       "Mother's Maiden Name      False\n",
       "Date of Birth             False\n",
       "Time of Birth             False\n",
       "Age in Yrs.               False\n",
       "Weight in Kgs.            False\n",
       "Date of Joining           False\n",
       "Quarter of Joining        False\n",
       "Half of Joining           False\n",
       "Year of Joining           False\n",
       "Month of Joining          False\n",
       "Month Name of Joining     False\n",
       "Short Month               False\n",
       "Day of Joining            False\n",
       "DOW of Joining            False\n",
       "Short DOW                 False\n",
       "Age in Company (Years)    False\n",
       "Salary                    False\n",
       "Last % Hike               False\n",
       "SSN                       False\n",
       "Phone No.                 False\n",
       "Place Name                False\n",
       "County                    False\n",
       "City                      False\n",
       "State                     False\n",
       "Zip                       False\n",
       "Region                    False\n",
       "User Name                 False\n",
       "Password                  False\n",
       "dtype: bool"
      ]
     },
     "execution_count": 33,
     "metadata": {},
     "output_type": "execute_result"
    }
   ],
   "source": [
    "df.isnull().any()"
   ]
  },
  {
   "cell_type": "code",
   "execution_count": 34,
   "id": "9c2c8eed",
   "metadata": {},
   "outputs": [],
   "source": [
    "df2['Date of Joining'] = pd.to_datetime(df2['Date of Joining'])"
   ]
  },
  {
   "cell_type": "code",
   "execution_count": 35,
   "id": "6ad77e3e",
   "metadata": {},
   "outputs": [],
   "source": [
    "#data['Date Local'] = pd.to_datetime(data['Date Local'], format='%Y-%m')\n",
    "date = df2['Date of Joining']\n",
    "df2['year'] = pd.DatetimeIndex(df2['Date of Joining']).year\n",
    "df2['month'] = pd.DatetimeIndex(df2['Date of Joining']).month\n",
    "df2['DOY'] = pd.DatetimeIndex(df2['Date of Joining']).dayofyear"
   ]
  },
  {
   "cell_type": "code",
   "execution_count": 36,
   "id": "c27988ab",
   "metadata": {},
   "outputs": [],
   "source": [
    "df2['Age']=df2['Age'].astype(int)"
   ]
  },
  {
   "cell_type": "code",
   "execution_count": 37,
   "id": "388e8e25",
   "metadata": {},
   "outputs": [
    {
     "name": "stdout",
     "output_type": "stream",
     "text": [
      "<class 'pandas.core.frame.DataFrame'>\n",
      "RangeIndex: 500000 entries, 0 to 499999\n",
      "Data columns (total 40 columns):\n",
      " #   Column                 Non-Null Count   Dtype         \n",
      "---  ------                 --------------   -----         \n",
      " 0   Emp ID                 500000 non-null  int64         \n",
      " 1   Name Prefix            500000 non-null  object        \n",
      " 2   First Name             500000 non-null  object        \n",
      " 3   Middle Initial         500000 non-null  object        \n",
      " 4   Last Name              500000 non-null  object        \n",
      " 5   Gender                 500000 non-null  object        \n",
      " 6   E Mail                 500000 non-null  object        \n",
      " 7   Father's Name          500000 non-null  object        \n",
      " 8   Mother's Name          500000 non-null  object        \n",
      " 9   Mother's Maiden Name   500000 non-null  object        \n",
      " 10  Date of Birth          500000 non-null  object        \n",
      " 11  Time of Birth          500000 non-null  object        \n",
      " 12  Age                    500000 non-null  int32         \n",
      " 13  Weight in Kgs.         500000 non-null  int64         \n",
      " 14  Date of Joining        500000 non-null  datetime64[ns]\n",
      " 15  Quarter of Joining     500000 non-null  object        \n",
      " 16  Half of Joining        500000 non-null  object        \n",
      " 17  Year of Joining        500000 non-null  int64         \n",
      " 18  Month of Joining       500000 non-null  int64         \n",
      " 19  Month Name of Joining  500000 non-null  object        \n",
      " 20  Short Month            500000 non-null  object        \n",
      " 21  Day of Joining         500000 non-null  int64         \n",
      " 22  DOW of Joining         500000 non-null  object        \n",
      " 23  Short DOW              500000 non-null  object        \n",
      " 24  Experience             500000 non-null  float64       \n",
      " 25  Salary                 500000 non-null  int64         \n",
      " 26  Last % Hike            500000 non-null  float64       \n",
      " 27  SSN                    500000 non-null  object        \n",
      " 28  Phone No.              500000 non-null  object        \n",
      " 29  Place Name             500000 non-null  object        \n",
      " 30  County                 500000 non-null  object        \n",
      " 31  City                   500000 non-null  object        \n",
      " 32  State                  500000 non-null  object        \n",
      " 33  Zip                    500000 non-null  int64         \n",
      " 34  Region                 500000 non-null  object        \n",
      " 35  User Name              500000 non-null  object        \n",
      " 36  Password               500000 non-null  object        \n",
      " 37  year                   500000 non-null  int64         \n",
      " 38  month                  500000 non-null  int64         \n",
      " 39  DOY                    500000 non-null  int64         \n",
      "dtypes: datetime64[ns](1), float64(2), int32(1), int64(10), object(26)\n",
      "memory usage: 150.7+ MB\n"
     ]
    }
   ],
   "source": [
    "df2.info()"
   ]
  },
  {
   "cell_type": "markdown",
   "id": "be50aa5d",
   "metadata": {},
   "source": [
    "#Feature Reduction"
   ]
  },
  {
   "cell_type": "code",
   "execution_count": 38,
   "id": "53200574",
   "metadata": {},
   "outputs": [
    {
     "data": {
      "text/plain": [
       "<AxesSubplot:>"
      ]
     },
     "execution_count": 38,
     "metadata": {},
     "output_type": "execute_result"
    },
    {
     "data": {
      "image/png": "[encoded data removed]",
      "text/plain": [
       "<Figure size 1080x576 with 2 Axes>"
      ]
     },
     "metadata": {
      "needs_background": "light"
     },
     "output_type": "display_data"
    }
   ],
   "source": [
    "cor=df2.corr()\n",
    "plt.figure(figsize=(15,8))\n",
    "\n",
    "sns.heatmap(cor,annot=True,fmt=\".2f\")"
   ]
  },
  {
   "cell_type": "code",
   "execution_count": 39,
   "id": "8e74e501",
   "metadata": {},
   "outputs": [],
   "source": [
    "#Label Encoding"
   ]
  },
  {
   "cell_type": "code",
   "execution_count": 40,
   "id": "7b8028ca",
   "metadata": {},
   "outputs": [
    {
     "data": {
      "text/html": [
       "<div>\n",
       "<style scoped>\n",
       "    .dataframe tbody tr th:only-of-type {\n",
       "        vertical-align: middle;\n",
       "    }\n",
       "\n",
       "    .dataframe tbody tr th {\n",
       "        vertical-align: top;\n",
       "    }\n",
       "\n",
       "    .dataframe thead th {\n",
       "        text-align: right;\n",
       "    }\n",
       "</style>\n",
       "<table border=\"1\" class=\"dataframe\">\n",
       "  <thead>\n",
       "    <tr style=\"text-align: right;\">\n",
       "      <th></th>\n",
       "      <th>Emp ID</th>\n",
       "      <th>Name Prefix</th>\n",
       "      <th>First Name</th>\n",
       "      <th>Middle Initial</th>\n",
       "      <th>Last Name</th>\n",
       "      <th>Gender</th>\n",
       "      <th>E Mail</th>\n",
       "      <th>Father's Name</th>\n",
       "      <th>Mother's Name</th>\n",
       "      <th>Mother's Maiden Name</th>\n",
       "      <th>...</th>\n",
       "      <th>County</th>\n",
       "      <th>City</th>\n",
       "      <th>State</th>\n",
       "      <th>Zip</th>\n",
       "      <th>Region</th>\n",
       "      <th>User Name</th>\n",
       "      <th>Password</th>\n",
       "      <th>year</th>\n",
       "      <th>month</th>\n",
       "      <th>DOY</th>\n",
       "    </tr>\n",
       "  </thead>\n",
       "  <tbody>\n",
       "    <tr>\n",
       "      <th>0</th>\n",
       "      <td>857211</td>\n",
       "      <td>Ms.</td>\n",
       "      <td>Hermila</td>\n",
       "      <td>J</td>\n",
       "      <td>Suhr</td>\n",
       "      <td>F</td>\n",
       "      <td>hermila.suhr@gmail.com</td>\n",
       "      <td>Todd Suhr</td>\n",
       "      <td>Cathrine Suhr</td>\n",
       "      <td>Hinojosa</td>\n",
       "      <td>...</td>\n",
       "      <td>Clay</td>\n",
       "      <td>13123</td>\n",
       "      <td>AR</td>\n",
       "      <td>72453</td>\n",
       "      <td>South</td>\n",
       "      <td>hjsuhr</td>\n",
       "      <td>oZ%{&lt;6wN!A</td>\n",
       "      <td>2014</td>\n",
       "      <td>9</td>\n",
       "      <td>252</td>\n",
       "    </tr>\n",
       "    <tr>\n",
       "      <th>1</th>\n",
       "      <td>514341</td>\n",
       "      <td>Mr.</td>\n",
       "      <td>Antonio</td>\n",
       "      <td>Q</td>\n",
       "      <td>Joy</td>\n",
       "      <td>M</td>\n",
       "      <td>antonio.joy@yahoo.com</td>\n",
       "      <td>Clark Joy</td>\n",
       "      <td>Clarisa Joy</td>\n",
       "      <td>Gagliardi</td>\n",
       "      <td>...</td>\n",
       "      <td>Screven</td>\n",
       "      <td>14625</td>\n",
       "      <td>GA</td>\n",
       "      <td>30455</td>\n",
       "      <td>South</td>\n",
       "      <td>aqjoy</td>\n",
       "      <td>7_[%FE;saZ:B</td>\n",
       "      <td>2011</td>\n",
       "      <td>8</td>\n",
       "      <td>214</td>\n",
       "    </tr>\n",
       "    <tr>\n",
       "      <th>2</th>\n",
       "      <td>314598</td>\n",
       "      <td>Prof.</td>\n",
       "      <td>Sebastian</td>\n",
       "      <td>J</td>\n",
       "      <td>Moores</td>\n",
       "      <td>M</td>\n",
       "      <td>sebastian.moores@ibm.com</td>\n",
       "      <td>Everette Moores</td>\n",
       "      <td>Sol Moores</td>\n",
       "      <td>Paden</td>\n",
       "      <td>...</td>\n",
       "      <td>Jefferson</td>\n",
       "      <td>447</td>\n",
       "      <td>NY</td>\n",
       "      <td>13608</td>\n",
       "      <td>Northeast</td>\n",
       "      <td>sjmoores</td>\n",
       "      <td>Z0:_dR*OQhQlF</td>\n",
       "      <td>2012</td>\n",
       "      <td>4</td>\n",
       "      <td>92</td>\n",
       "    </tr>\n",
       "    <tr>\n",
       "      <th>3</th>\n",
       "      <td>987773</td>\n",
       "      <td>Mr.</td>\n",
       "      <td>Alec</td>\n",
       "      <td>S</td>\n",
       "      <td>Rittenhouse</td>\n",
       "      <td>M</td>\n",
       "      <td>alec.rittenhouse@gmail.com</td>\n",
       "      <td>Jefferey Rittenhouse</td>\n",
       "      <td>Moira Rittenhouse</td>\n",
       "      <td>Clanton</td>\n",
       "      <td>...</td>\n",
       "      <td>Milledgeville</td>\n",
       "      <td>10953</td>\n",
       "      <td>GA</td>\n",
       "      <td>31059</td>\n",
       "      <td>South</td>\n",
       "      <td>asrittenhouse</td>\n",
       "      <td>7#?GLEd0</td>\n",
       "      <td>1998</td>\n",
       "      <td>3</td>\n",
       "      <td>78</td>\n",
       "    </tr>\n",
       "    <tr>\n",
       "      <th>4</th>\n",
       "      <td>690850</td>\n",
       "      <td>Mr.</td>\n",
       "      <td>Reggie</td>\n",
       "      <td>C</td>\n",
       "      <td>Doughty</td>\n",
       "      <td>M</td>\n",
       "      <td>reggie.doughty@gmail.com</td>\n",
       "      <td>Jerrod Doughty</td>\n",
       "      <td>Crista Doughty</td>\n",
       "      <td>Abron</td>\n",
       "      <td>...</td>\n",
       "      <td>Greene</td>\n",
       "      <td>16281</td>\n",
       "      <td>MO</td>\n",
       "      <td>65809</td>\n",
       "      <td>Midwest</td>\n",
       "      <td>rcdoughty</td>\n",
       "      <td>4~1!+LP^O</td>\n",
       "      <td>2010</td>\n",
       "      <td>1</td>\n",
       "      <td>4</td>\n",
       "    </tr>\n",
       "  </tbody>\n",
       "</table>\n",
       "<p>5 rows × 40 columns</p>\n",
       "</div>"
      ],
      "text/plain": [
       "   Emp ID Name Prefix First Name Middle Initial    Last Name Gender  \\\n",
       "0  857211         Ms.    Hermila              J         Suhr      F   \n",
       "1  514341         Mr.    Antonio              Q          Joy      M   \n",
       "2  314598       Prof.  Sebastian              J       Moores      M   \n",
       "3  987773         Mr.       Alec              S  Rittenhouse      M   \n",
       "4  690850         Mr.     Reggie              C      Doughty      M   \n",
       "\n",
       "                       E Mail         Father's Name      Mother's Name  \\\n",
       "0      hermila.suhr@gmail.com             Todd Suhr      Cathrine Suhr   \n",
       "1       antonio.joy@yahoo.com             Clark Joy        Clarisa Joy   \n",
       "2    sebastian.moores@ibm.com       Everette Moores         Sol Moores   \n",
       "3  alec.rittenhouse@gmail.com  Jefferey Rittenhouse  Moira Rittenhouse   \n",
       "4    reggie.doughty@gmail.com        Jerrod Doughty     Crista Doughty   \n",
       "\n",
       "  Mother's Maiden Name  ...         County   City  State    Zip     Region  \\\n",
       "0             Hinojosa  ...           Clay  13123     AR  72453      South   \n",
       "1            Gagliardi  ...        Screven  14625     GA  30455      South   \n",
       "2                Paden  ...      Jefferson    447     NY  13608  Northeast   \n",
       "3              Clanton  ...  Milledgeville  10953     GA  31059      South   \n",
       "4                Abron  ...         Greene  16281     MO  65809    Midwest   \n",
       "\n",
       "       User Name       Password  year  month  DOY  \n",
       "0         hjsuhr     oZ%{<6wN!A  2014      9  252  \n",
       "1          aqjoy   7_[%FE;saZ:B  2011      8  214  \n",
       "2       sjmoores  Z0:_dR*OQhQlF  2012      4   92  \n",
       "3  asrittenhouse       7#?GLEd0  1998      3   78  \n",
       "4      rcdoughty      4~1!+LP^O  2010      1    4  \n",
       "\n",
       "[5 rows x 40 columns]"
      ]
     },
     "execution_count": 40,
     "metadata": {},
     "output_type": "execute_result"
    }
   ],
   "source": [
    "from sklearn.preprocessing import LabelEncoder\n",
    "encoder = LabelEncoder()\n",
    "df2['City'] = encoder.fit_transform(df2['City'])\n",
    "df2.head()"
   ]
  },
  {
   "cell_type": "code",
   "execution_count": 41,
   "id": "bbf20d9d",
   "metadata": {},
   "outputs": [],
   "source": [
    "df2['Gender'] = pd.get_dummies(df2['Gender'], prefix='Gender')"
   ]
  },
  {
   "cell_type": "code",
   "execution_count": 42,
   "id": "ce151cc8",
   "metadata": {},
   "outputs": [
    {
     "data": {
      "text/plain": [
       "Index(['Emp ID', 'Name Prefix', 'First Name', 'Middle Initial', 'Last Name',\n",
       "       'Gender', 'E Mail', 'Father's Name', 'Mother's Name',\n",
       "       'Mother's Maiden Name', 'Date of Birth', 'Time of Birth', 'Age',\n",
       "       'Weight in Kgs.', 'Date of Joining', 'Quarter of Joining',\n",
       "       'Half of Joining', 'Year of Joining', 'Month of Joining',\n",
       "       'Month Name of Joining', 'Short Month', 'Day of Joining',\n",
       "       'DOW of Joining', 'Short DOW', 'Experience', 'Salary', 'Last % Hike',\n",
       "       'SSN', 'Phone No. ', 'Place Name', 'County', 'City', 'State', 'Zip',\n",
       "       'Region', 'User Name', 'Password', 'year', 'month', 'DOY'],\n",
       "      dtype='object')"
      ]
     },
     "execution_count": 42,
     "metadata": {},
     "output_type": "execute_result"
    }
   ],
   "source": [
    "df2.columns"
   ]
  },
  {
   "cell_type": "code",
   "execution_count": 43,
   "id": "2fd8d2bc",
   "metadata": {},
   "outputs": [],
   "source": [
    "data_x=df2[['Gender','Age','year','month','DOY','Experience','Last % Hike','City']]"
   ]
  },
  {
   "cell_type": "code",
   "execution_count": 44,
   "id": "4a3ed597",
   "metadata": {},
   "outputs": [],
   "source": [
    "data_y=pd.DataFrame(df2['Salary'])\n"
   ]
  },
  {
   "cell_type": "code",
   "execution_count": 45,
   "id": "73a14b91",
   "metadata": {},
   "outputs": [
    {
     "name": "stdout",
     "output_type": "stream",
     "text": [
      "<class 'pandas.core.frame.DataFrame'>\n",
      "RangeIndex: 500000 entries, 0 to 499999\n",
      "Data columns (total 9 columns):\n",
      " #   Column                  Non-Null Count   Dtype  \n",
      "---  ------                  --------------   -----  \n",
      " 0   Emp ID                  500000 non-null  int64  \n",
      " 1   First Name              500000 non-null  object \n",
      " 2   Gender                  500000 non-null  object \n",
      " 3   Age in Yrs.             500000 non-null  float64\n",
      " 4   Date of Joining         500000 non-null  object \n",
      " 5   Age in Company (Years)  500000 non-null  float64\n",
      " 6   Salary                  500000 non-null  int64  \n",
      " 7   Last % Hike             500000 non-null  object \n",
      " 8   City                    500000 non-null  object \n",
      "dtypes: float64(2), int64(2), object(5)\n",
      "memory usage: 34.3+ MB\n"
     ]
    }
   ],
   "source": [
    "df1.info()"
   ]
  },
  {
   "cell_type": "code",
   "execution_count": 46,
   "id": "8c4c8a69",
   "metadata": {},
   "outputs": [
    {
     "data": {
      "text/html": [
       "<div>\n",
       "<style scoped>\n",
       "    .dataframe tbody tr th:only-of-type {\n",
       "        vertical-align: middle;\n",
       "    }\n",
       "\n",
       "    .dataframe tbody tr th {\n",
       "        vertical-align: top;\n",
       "    }\n",
       "\n",
       "    .dataframe thead th {\n",
       "        text-align: right;\n",
       "    }\n",
       "</style>\n",
       "<table border=\"1\" class=\"dataframe\">\n",
       "  <thead>\n",
       "    <tr style=\"text-align: right;\">\n",
       "      <th></th>\n",
       "      <th>Gender</th>\n",
       "      <th>Age</th>\n",
       "      <th>year</th>\n",
       "      <th>month</th>\n",
       "      <th>DOY</th>\n",
       "      <th>Experience</th>\n",
       "      <th>Last % Hike</th>\n",
       "      <th>City</th>\n",
       "    </tr>\n",
       "  </thead>\n",
       "  <tbody>\n",
       "    <tr>\n",
       "      <th>0</th>\n",
       "      <td>1</td>\n",
       "      <td>24</td>\n",
       "      <td>2014</td>\n",
       "      <td>9</td>\n",
       "      <td>252</td>\n",
       "      <td>2.88</td>\n",
       "      <td>0.12</td>\n",
       "      <td>13123</td>\n",
       "    </tr>\n",
       "    <tr>\n",
       "      <th>1</th>\n",
       "      <td>0</td>\n",
       "      <td>27</td>\n",
       "      <td>2011</td>\n",
       "      <td>8</td>\n",
       "      <td>214</td>\n",
       "      <td>5.99</td>\n",
       "      <td>0.30</td>\n",
       "      <td>14625</td>\n",
       "    </tr>\n",
       "    <tr>\n",
       "      <th>2</th>\n",
       "      <td>0</td>\n",
       "      <td>36</td>\n",
       "      <td>2012</td>\n",
       "      <td>4</td>\n",
       "      <td>92</td>\n",
       "      <td>5.33</td>\n",
       "      <td>0.03</td>\n",
       "      <td>447</td>\n",
       "    </tr>\n",
       "    <tr>\n",
       "      <th>3</th>\n",
       "      <td>0</td>\n",
       "      <td>43</td>\n",
       "      <td>1998</td>\n",
       "      <td>3</td>\n",
       "      <td>78</td>\n",
       "      <td>19.37</td>\n",
       "      <td>0.02</td>\n",
       "      <td>10953</td>\n",
       "    </tr>\n",
       "    <tr>\n",
       "      <th>4</th>\n",
       "      <td>0</td>\n",
       "      <td>50</td>\n",
       "      <td>2010</td>\n",
       "      <td>1</td>\n",
       "      <td>4</td>\n",
       "      <td>7.57</td>\n",
       "      <td>0.08</td>\n",
       "      <td>16281</td>\n",
       "    </tr>\n",
       "    <tr>\n",
       "      <th>...</th>\n",
       "      <td>...</td>\n",
       "      <td>...</td>\n",
       "      <td>...</td>\n",
       "      <td>...</td>\n",
       "      <td>...</td>\n",
       "      <td>...</td>\n",
       "      <td>...</td>\n",
       "      <td>...</td>\n",
       "    </tr>\n",
       "    <tr>\n",
       "      <th>499995</th>\n",
       "      <td>1</td>\n",
       "      <td>29</td>\n",
       "      <td>2009</td>\n",
       "      <td>5</td>\n",
       "      <td>142</td>\n",
       "      <td>8.19</td>\n",
       "      <td>0.07</td>\n",
       "      <td>12825</td>\n",
       "    </tr>\n",
       "    <tr>\n",
       "      <th>499996</th>\n",
       "      <td>1</td>\n",
       "      <td>42</td>\n",
       "      <td>2007</td>\n",
       "      <td>9</td>\n",
       "      <td>251</td>\n",
       "      <td>9.89</td>\n",
       "      <td>0.20</td>\n",
       "      <td>13467</td>\n",
       "    </tr>\n",
       "    <tr>\n",
       "      <th>499997</th>\n",
       "      <td>1</td>\n",
       "      <td>37</td>\n",
       "      <td>2002</td>\n",
       "      <td>2</td>\n",
       "      <td>59</td>\n",
       "      <td>15.42</td>\n",
       "      <td>0.19</td>\n",
       "      <td>2012</td>\n",
       "    </tr>\n",
       "    <tr>\n",
       "      <th>499998</th>\n",
       "      <td>0</td>\n",
       "      <td>44</td>\n",
       "      <td>2014</td>\n",
       "      <td>2</td>\n",
       "      <td>42</td>\n",
       "      <td>3.46</td>\n",
       "      <td>0.12</td>\n",
       "      <td>5792</td>\n",
       "    </tr>\n",
       "    <tr>\n",
       "      <th>499999</th>\n",
       "      <td>0</td>\n",
       "      <td>45</td>\n",
       "      <td>2009</td>\n",
       "      <td>11</td>\n",
       "      <td>313</td>\n",
       "      <td>7.72</td>\n",
       "      <td>0.17</td>\n",
       "      <td>11335</td>\n",
       "    </tr>\n",
       "  </tbody>\n",
       "</table>\n",
       "<p>500000 rows × 8 columns</p>\n",
       "</div>"
      ],
      "text/plain": [
       "        Gender  Age  year  month  DOY  Experience  Last % Hike   City\n",
       "0            1   24  2014      9  252        2.88         0.12  13123\n",
       "1            0   27  2011      8  214        5.99         0.30  14625\n",
       "2            0   36  2012      4   92        5.33         0.03    447\n",
       "3            0   43  1998      3   78       19.37         0.02  10953\n",
       "4            0   50  2010      1    4        7.57         0.08  16281\n",
       "...        ...  ...   ...    ...  ...         ...          ...    ...\n",
       "499995       1   29  2009      5  142        8.19         0.07  12825\n",
       "499996       1   42  2007      9  251        9.89         0.20  13467\n",
       "499997       1   37  2002      2   59       15.42         0.19   2012\n",
       "499998       0   44  2014      2   42        3.46         0.12   5792\n",
       "499999       0   45  2009     11  313        7.72         0.17  11335\n",
       "\n",
       "[500000 rows x 8 columns]"
      ]
     },
     "execution_count": 46,
     "metadata": {},
     "output_type": "execute_result"
    }
   ],
   "source": [
    "data_x"
   ]
  },
  {
   "cell_type": "code",
   "execution_count": 47,
   "id": "54d950e1",
   "metadata": {},
   "outputs": [
    {
     "data": {
      "text/html": [
       "<div>\n",
       "<style scoped>\n",
       "    .dataframe tbody tr th:only-of-type {\n",
       "        vertical-align: middle;\n",
       "    }\n",
       "\n",
       "    .dataframe tbody tr th {\n",
       "        vertical-align: top;\n",
       "    }\n",
       "\n",
       "    .dataframe thead th {\n",
       "        text-align: right;\n",
       "    }\n",
       "</style>\n",
       "<table border=\"1\" class=\"dataframe\">\n",
       "  <thead>\n",
       "    <tr style=\"text-align: right;\">\n",
       "      <th></th>\n",
       "      <th>Salary</th>\n",
       "    </tr>\n",
       "  </thead>\n",
       "  <tbody>\n",
       "    <tr>\n",
       "      <th>0</th>\n",
       "      <td>168991</td>\n",
       "    </tr>\n",
       "    <tr>\n",
       "      <th>1</th>\n",
       "      <td>53504</td>\n",
       "    </tr>\n",
       "    <tr>\n",
       "      <th>2</th>\n",
       "      <td>158859</td>\n",
       "    </tr>\n",
       "    <tr>\n",
       "      <th>3</th>\n",
       "      <td>76105</td>\n",
       "    </tr>\n",
       "    <tr>\n",
       "      <th>4</th>\n",
       "      <td>134436</td>\n",
       "    </tr>\n",
       "    <tr>\n",
       "      <th>...</th>\n",
       "      <td>...</td>\n",
       "    </tr>\n",
       "    <tr>\n",
       "      <th>499995</th>\n",
       "      <td>134337</td>\n",
       "    </tr>\n",
       "    <tr>\n",
       "      <th>499996</th>\n",
       "      <td>73157</td>\n",
       "    </tr>\n",
       "    <tr>\n",
       "      <th>499997</th>\n",
       "      <td>102821</td>\n",
       "    </tr>\n",
       "    <tr>\n",
       "      <th>499998</th>\n",
       "      <td>185460</td>\n",
       "    </tr>\n",
       "    <tr>\n",
       "      <th>499999</th>\n",
       "      <td>132652</td>\n",
       "    </tr>\n",
       "  </tbody>\n",
       "</table>\n",
       "<p>500000 rows × 1 columns</p>\n",
       "</div>"
      ],
      "text/plain": [
       "        Salary\n",
       "0       168991\n",
       "1        53504\n",
       "2       158859\n",
       "3        76105\n",
       "4       134436\n",
       "...        ...\n",
       "499995  134337\n",
       "499996   73157\n",
       "499997  102821\n",
       "499998  185460\n",
       "499999  132652\n",
       "\n",
       "[500000 rows x 1 columns]"
      ]
     },
     "execution_count": 47,
     "metadata": {},
     "output_type": "execute_result"
    }
   ],
   "source": [
    "data_y"
   ]
  },
  {
   "cell_type": "markdown",
   "id": "fd48e02e",
   "metadata": {},
   "source": [
    "#Splitting the data to train and test"
   ]
  },
  {
   "cell_type": "code",
   "execution_count": 48,
   "id": "fa1f9ad9",
   "metadata": {},
   "outputs": [],
   "source": [
    "from sklearn.model_selection import train_test_split"
   ]
  },
  {
   "cell_type": "code",
   "execution_count": 49,
   "id": "921eb8e1",
   "metadata": {},
   "outputs": [],
   "source": [
    "x_train,x_test,y_train,y_test=train_test_split(data_x,data_y,random_state=2,test_size=0.3)"
   ]
  },
  {
   "cell_type": "code",
   "execution_count": 50,
   "id": "6d830e4f",
   "metadata": {},
   "outputs": [
    {
     "data": {
      "text/html": [
       "<div>\n",
       "<style scoped>\n",
       "    .dataframe tbody tr th:only-of-type {\n",
       "        vertical-align: middle;\n",
       "    }\n",
       "\n",
       "    .dataframe tbody tr th {\n",
       "        vertical-align: top;\n",
       "    }\n",
       "\n",
       "    .dataframe thead th {\n",
       "        text-align: right;\n",
       "    }\n",
       "</style>\n",
       "<table border=\"1\" class=\"dataframe\">\n",
       "  <thead>\n",
       "    <tr style=\"text-align: right;\">\n",
       "      <th></th>\n",
       "      <th>Gender</th>\n",
       "      <th>Age</th>\n",
       "      <th>year</th>\n",
       "      <th>month</th>\n",
       "      <th>DOY</th>\n",
       "      <th>Experience</th>\n",
       "      <th>Last % Hike</th>\n",
       "      <th>City</th>\n",
       "    </tr>\n",
       "  </thead>\n",
       "  <tbody>\n",
       "    <tr>\n",
       "      <th>61599</th>\n",
       "      <td>1</td>\n",
       "      <td>31</td>\n",
       "      <td>2011</td>\n",
       "      <td>5</td>\n",
       "      <td>132</td>\n",
       "      <td>6.22</td>\n",
       "      <td>0.15</td>\n",
       "      <td>9469</td>\n",
       "    </tr>\n",
       "    <tr>\n",
       "      <th>280500</th>\n",
       "      <td>1</td>\n",
       "      <td>24</td>\n",
       "      <td>2014</td>\n",
       "      <td>1</td>\n",
       "      <td>28</td>\n",
       "      <td>3.50</td>\n",
       "      <td>0.13</td>\n",
       "      <td>12755</td>\n",
       "    </tr>\n",
       "    <tr>\n",
       "      <th>228663</th>\n",
       "      <td>1</td>\n",
       "      <td>57</td>\n",
       "      <td>1985</td>\n",
       "      <td>1</td>\n",
       "      <td>10</td>\n",
       "      <td>32.57</td>\n",
       "      <td>0.20</td>\n",
       "      <td>14401</td>\n",
       "    </tr>\n",
       "    <tr>\n",
       "      <th>65646</th>\n",
       "      <td>1</td>\n",
       "      <td>36</td>\n",
       "      <td>2006</td>\n",
       "      <td>7</td>\n",
       "      <td>198</td>\n",
       "      <td>11.04</td>\n",
       "      <td>0.16</td>\n",
       "      <td>12712</td>\n",
       "    </tr>\n",
       "    <tr>\n",
       "      <th>148476</th>\n",
       "      <td>0</td>\n",
       "      <td>21</td>\n",
       "      <td>2017</td>\n",
       "      <td>3</td>\n",
       "      <td>72</td>\n",
       "      <td>0.38</td>\n",
       "      <td>0.22</td>\n",
       "      <td>18679</td>\n",
       "    </tr>\n",
       "    <tr>\n",
       "      <th>...</th>\n",
       "      <td>...</td>\n",
       "      <td>...</td>\n",
       "      <td>...</td>\n",
       "      <td>...</td>\n",
       "      <td>...</td>\n",
       "      <td>...</td>\n",
       "      <td>...</td>\n",
       "      <td>...</td>\n",
       "    </tr>\n",
       "    <tr>\n",
       "      <th>437782</th>\n",
       "      <td>0</td>\n",
       "      <td>45</td>\n",
       "      <td>2016</td>\n",
       "      <td>3</td>\n",
       "      <td>83</td>\n",
       "      <td>1.35</td>\n",
       "      <td>0.02</td>\n",
       "      <td>10779</td>\n",
       "    </tr>\n",
       "    <tr>\n",
       "      <th>95816</th>\n",
       "      <td>1</td>\n",
       "      <td>44</td>\n",
       "      <td>2004</td>\n",
       "      <td>11</td>\n",
       "      <td>327</td>\n",
       "      <td>12.69</td>\n",
       "      <td>0.12</td>\n",
       "      <td>16291</td>\n",
       "    </tr>\n",
       "    <tr>\n",
       "      <th>203245</th>\n",
       "      <td>1</td>\n",
       "      <td>37</td>\n",
       "      <td>2011</td>\n",
       "      <td>3</td>\n",
       "      <td>89</td>\n",
       "      <td>6.33</td>\n",
       "      <td>0.12</td>\n",
       "      <td>1693</td>\n",
       "    </tr>\n",
       "    <tr>\n",
       "      <th>100879</th>\n",
       "      <td>1</td>\n",
       "      <td>38</td>\n",
       "      <td>2010</td>\n",
       "      <td>1</td>\n",
       "      <td>2</td>\n",
       "      <td>7.57</td>\n",
       "      <td>0.04</td>\n",
       "      <td>948</td>\n",
       "    </tr>\n",
       "    <tr>\n",
       "      <th>351400</th>\n",
       "      <td>0</td>\n",
       "      <td>27</td>\n",
       "      <td>2016</td>\n",
       "      <td>1</td>\n",
       "      <td>27</td>\n",
       "      <td>1.50</td>\n",
       "      <td>0.02</td>\n",
       "      <td>5024</td>\n",
       "    </tr>\n",
       "  </tbody>\n",
       "</table>\n",
       "<p>350000 rows × 8 columns</p>\n",
       "</div>"
      ],
      "text/plain": [
       "        Gender  Age  year  month  DOY  Experience  Last % Hike   City\n",
       "61599        1   31  2011      5  132        6.22         0.15   9469\n",
       "280500       1   24  2014      1   28        3.50         0.13  12755\n",
       "228663       1   57  1985      1   10       32.57         0.20  14401\n",
       "65646        1   36  2006      7  198       11.04         0.16  12712\n",
       "148476       0   21  2017      3   72        0.38         0.22  18679\n",
       "...        ...  ...   ...    ...  ...         ...          ...    ...\n",
       "437782       0   45  2016      3   83        1.35         0.02  10779\n",
       "95816        1   44  2004     11  327       12.69         0.12  16291\n",
       "203245       1   37  2011      3   89        6.33         0.12   1693\n",
       "100879       1   38  2010      1    2        7.57         0.04    948\n",
       "351400       0   27  2016      1   27        1.50         0.02   5024\n",
       "\n",
       "[350000 rows x 8 columns]"
      ]
     },
     "execution_count": 50,
     "metadata": {},
     "output_type": "execute_result"
    }
   ],
   "source": [
    "x_train"
   ]
  },
  {
   "cell_type": "code",
   "execution_count": 51,
   "id": "d85cc726",
   "metadata": {},
   "outputs": [],
   "source": [
    "#Normalization"
   ]
  },
  {
   "cell_type": "code",
   "execution_count": 52,
   "id": "1fde6615",
   "metadata": {},
   "outputs": [],
   "source": [
    "from sklearn.preprocessing import StandardScaler\n",
    "sc = StandardScaler()\n",
    "sc.fit(x_train)\n",
    "X_train_std = sc.transform(x_train)\n",
    "X_test_std = sc.transform(x_test)"
   ]
  },
  {
   "cell_type": "markdown",
   "id": "d495038e",
   "metadata": {},
   "source": [
    "#Modeling"
   ]
  },
  {
   "cell_type": "markdown",
   "id": "2d3dc264",
   "metadata": {},
   "source": [
    "#1.Linear Regression"
   ]
  },
  {
   "cell_type": "code",
   "execution_count": 53,
   "id": "174ff116",
   "metadata": {},
   "outputs": [],
   "source": [
    "from sklearn.linear_model import LinearRegression\n",
    "model = LinearRegression()\n",
    "model.fit(X_train_std, y_train)\n",
    "y_pred = model.predict(X_test_std)"
   ]
  },
  {
   "cell_type": "code",
   "execution_count": 54,
   "id": "274c62dc",
   "metadata": {},
   "outputs": [
    {
     "data": {
      "text/plain": [
       "array([[-0.99989143, -0.44331705, -0.62258802, ...,  0.56542621,\n",
       "        -0.22405947,  1.27264653],\n",
       "       [-0.99989143, -1.59953359,  1.00825078, ..., -1.01142817,\n",
       "         0.67053109,  0.56533589],\n",
       "       [ 1.00010858,  1.15759815, -2.02044985, ...,  2.04205186,\n",
       "         0.89417873, -0.61889806],\n",
       "       ...,\n",
       "       [ 1.00010858,  0.89077895, -1.5544959 , ...,  1.56305175,\n",
       "        -1.56594531, -1.33356531],\n",
       "       [-0.99989143,  1.51335709, -1.5544959 , ...,  1.56538265,\n",
       "         1.00600255,  0.76522023],\n",
       "       [-0.99989143,  0.80183922, -0.85556499, ...,  0.88009782,\n",
       "         1.11782637, -0.9341555 ]])"
      ]
     },
     "execution_count": 54,
     "metadata": {},
     "output_type": "execute_result"
    }
   ],
   "source": [
    "X_test_std"
   ]
  },
  {
   "cell_type": "code",
   "execution_count": 55,
   "id": "89002d92",
   "metadata": {},
   "outputs": [
    {
     "data": {
      "text/plain": [
       "<seaborn.axisgrid.FacetGrid at 0x20155ad8910>"
      ]
     },
     "execution_count": 55,
     "metadata": {},
     "output_type": "execute_result"
    },
    {
     "data": {
      "image/png": "[encoded data removed]",
      "text/plain": [
       "<Figure size 427.375x360 with 1 Axes>"
      ]
     },
     "metadata": {
      "needs_background": "light"
     },
     "output_type": "display_data"
    }
   ],
   "source": [
    "sns.displot(y_pred-y_test)"
   ]
  },
  {
   "cell_type": "code",
   "execution_count": 56,
   "id": "efdc3ba6",
   "metadata": {},
   "outputs": [
    {
     "name": "stderr",
     "output_type": "stream",
     "text": [
      "D:\\Anaconda3\\lib\\site-packages\\seaborn\\distributions.py:2557: FutureWarning: `distplot` is a deprecated function and will be removed in a future version. Please adapt your code to use either `displot` (a figure-level function with similar flexibility) or `histplot` (an axes-level function for histograms).\n",
      "  warnings.warn(msg, FutureWarning)\n"
     ]
    },
    {
     "data": {
      "text/plain": [
       "<AxesSubplot:ylabel='Density'>"
      ]
     },
     "execution_count": 56,
     "metadata": {},
     "output_type": "execute_result"
    },
    {
     "data": {
      "image/png": "[encoded data removed]",
      "text/plain": [
       "<Figure size 720x1080 with 1 Axes>"
      ]
     },
     "metadata": {
      "needs_background": "light"
     },
     "output_type": "display_data"
    }
   ],
   "source": [
    "sns.distplot(y_pred-y_test)"
   ]
  },
  {
   "cell_type": "code",
   "execution_count": 57,
   "id": "d92af35c",
   "metadata": {},
   "outputs": [
    {
     "data": {
      "text/html": [
       "<div>\n",
       "<style scoped>\n",
       "    .dataframe tbody tr th:only-of-type {\n",
       "        vertical-align: middle;\n",
       "    }\n",
       "\n",
       "    .dataframe tbody tr th {\n",
       "        vertical-align: top;\n",
       "    }\n",
       "\n",
       "    .dataframe thead th {\n",
       "        text-align: right;\n",
       "    }\n",
       "</style>\n",
       "<table border=\"1\" class=\"dataframe\">\n",
       "  <thead>\n",
       "    <tr style=\"text-align: right;\">\n",
       "      <th></th>\n",
       "      <th>Real Values</th>\n",
       "      <th>Predicted Values</th>\n",
       "    </tr>\n",
       "  </thead>\n",
       "  <tbody>\n",
       "    <tr>\n",
       "      <th>0</th>\n",
       "      <td>Salary\n",
       "64197    83897\n",
       "49709    83576\n",
       "7...</td>\n",
       "      <td>[[119912.30780046096], [119881.37135704745], [...</td>\n",
       "    </tr>\n",
       "  </tbody>\n",
       "</table>\n",
       "</div>"
      ],
      "text/plain": [
       "                                         Real Values  \\\n",
       "0          Salary\n",
       "64197    83897\n",
       "49709    83576\n",
       "7...   \n",
       "\n",
       "                                    Predicted Values  \n",
       "0  [[119912.30780046096], [119881.37135704745], [...  "
      ]
     },
     "execution_count": 57,
     "metadata": {},
     "output_type": "execute_result"
    }
   ],
   "source": [
    "df2 = pd.DataFrame({'Real Values':[y_test], 'Predicted Values':[y_pred]})\n",
    "df2"
   ]
  },
  {
   "cell_type": "code",
   "execution_count": 58,
   "id": "ef3931d3",
   "metadata": {},
   "outputs": [
    {
     "name": "stdout",
     "output_type": "stream",
     "text": [
      "coefficient of determination: -184808674.76680115\n"
     ]
    },
    {
     "name": "stderr",
     "output_type": "stream",
     "text": [
      "D:\\Anaconda3\\lib\\site-packages\\sklearn\\base.py:443: UserWarning: X has feature names, but LinearRegression was fitted without feature names\n",
      "  warnings.warn(\n"
     ]
    }
   ],
   "source": [
    "r_sq = model.score(x_test, y_test)\n",
    "print('coefficient of determination:', r_sq)"
   ]
  },
  {
   "cell_type": "code",
   "execution_count": 59,
   "id": "146de2d5",
   "metadata": {},
   "outputs": [],
   "source": [
    "from sklearn import metrics\n",
    "import sklearn.metrics as sm"
   ]
  },
  {
   "cell_type": "code",
   "execution_count": 60,
   "id": "657837aa",
   "metadata": {},
   "outputs": [
    {
     "name": "stdout",
     "output_type": "stream",
     "text": [
      "Mean absolute error = 40070.97267693024\n",
      "Mean squared error = 2137882043.0874412\n",
      "Median absolute error = 40192.42171340712\n",
      "Explain variance score = -3.0355335580711795e-05\n",
      "R2 score = -3.4027601538477725e-05\n"
     ]
    }
   ],
   "source": [
    "print(\"Mean absolute error =\",sm.mean_absolute_error(y_test, y_pred)) \n",
    "print(\"Mean squared error =\",sm.mean_squared_error(y_test, y_pred)) \n",
    "print(\"Median absolute error =\",sm.median_absolute_error(y_test, y_pred)) \n",
    "print(\"Explain variance score =\",sm.explained_variance_score(y_test, y_pred)) \n",
    "print(\"R2 score =\",sm.r2_score(y_test, y_pred))"
   ]
  },
  {
   "cell_type": "markdown",
   "id": "6a156c1c",
   "metadata": {},
   "source": [
    "#2 DecisioncTree Regression"
   ]
  },
  {
   "cell_type": "code",
   "execution_count": 61,
   "id": "187f547c",
   "metadata": {},
   "outputs": [],
   "source": [
    "from sklearn.tree import DecisionTreeRegressor\n",
    "dt_model_aqi = DecisionTreeRegressor()\n",
    "dt_model_aqi.fit(X_train_std,y_train)\n",
    "y_pred3 = dt_model_aqi.predict((X_test_std))\n"
   ]
  },
  {
   "cell_type": "code",
   "execution_count": 62,
   "id": "554f077d",
   "metadata": {},
   "outputs": [
    {
     "name": "stdout",
     "output_type": "stream",
     "text": [
      "Mean absolute error = 54117.605643333336\n",
      "Mean squared error = 4388388620.064828\n",
      "Median absolute error = 47670.0\n",
      "Explain variance score = -1.0527435543830905\n",
      "R2 score = -1.052750272445547\n"
     ]
    }
   ],
   "source": [
    "print(\"Mean absolute error =\",sm.mean_absolute_error(y_test, y_pred3)) \n",
    "print(\"Mean squared error =\",sm.mean_squared_error(y_test, y_pred3)) \n",
    "print(\"Median absolute error =\",sm.median_absolute_error(y_test, y_pred3)) \n",
    "print(\"Explain variance score =\",sm.explained_variance_score(y_test, y_pred3)) \n",
    "print(\"R2 score =\",sm.r2_score(y_test, y_pred3))"
   ]
  },
  {
   "cell_type": "code",
   "execution_count": 63,
   "id": "c5f712ed",
   "metadata": {},
   "outputs": [
    {
     "data": {
      "text/html": [
       "<div>\n",
       "<style scoped>\n",
       "    .dataframe tbody tr th:only-of-type {\n",
       "        vertical-align: middle;\n",
       "    }\n",
       "\n",
       "    .dataframe tbody tr th {\n",
       "        vertical-align: top;\n",
       "    }\n",
       "\n",
       "    .dataframe thead th {\n",
       "        text-align: right;\n",
       "    }\n",
       "</style>\n",
       "<table border=\"1\" class=\"dataframe\">\n",
       "  <thead>\n",
       "    <tr style=\"text-align: right;\">\n",
       "      <th></th>\n",
       "      <th>Salary</th>\n",
       "    </tr>\n",
       "  </thead>\n",
       "  <tbody>\n",
       "    <tr>\n",
       "      <th>64197</th>\n",
       "      <td>83897</td>\n",
       "    </tr>\n",
       "    <tr>\n",
       "      <th>49709</th>\n",
       "      <td>83576</td>\n",
       "    </tr>\n",
       "    <tr>\n",
       "      <th>79040</th>\n",
       "      <td>150968</td>\n",
       "    </tr>\n",
       "    <tr>\n",
       "      <th>482287</th>\n",
       "      <td>175349</td>\n",
       "    </tr>\n",
       "    <tr>\n",
       "      <th>6866</th>\n",
       "      <td>50353</td>\n",
       "    </tr>\n",
       "    <tr>\n",
       "      <th>...</th>\n",
       "      <td>...</td>\n",
       "    </tr>\n",
       "    <tr>\n",
       "      <th>315367</th>\n",
       "      <td>46824</td>\n",
       "    </tr>\n",
       "    <tr>\n",
       "      <th>278396</th>\n",
       "      <td>81230</td>\n",
       "    </tr>\n",
       "    <tr>\n",
       "      <th>427093</th>\n",
       "      <td>72853</td>\n",
       "    </tr>\n",
       "    <tr>\n",
       "      <th>205559</th>\n",
       "      <td>172940</td>\n",
       "    </tr>\n",
       "    <tr>\n",
       "      <th>21247</th>\n",
       "      <td>197668</td>\n",
       "    </tr>\n",
       "  </tbody>\n",
       "</table>\n",
       "<p>150000 rows × 1 columns</p>\n",
       "</div>"
      ],
      "text/plain": [
       "        Salary\n",
       "64197    83897\n",
       "49709    83576\n",
       "79040   150968\n",
       "482287  175349\n",
       "6866     50353\n",
       "...        ...\n",
       "315367   46824\n",
       "278396   81230\n",
       "427093   72853\n",
       "205559  172940\n",
       "21247   197668\n",
       "\n",
       "[150000 rows x 1 columns]"
      ]
     },
     "execution_count": 63,
     "metadata": {},
     "output_type": "execute_result"
    }
   ],
   "source": [
    "y_test"
   ]
  },
  {
   "cell_type": "code",
   "execution_count": 64,
   "id": "9d1ca402",
   "metadata": {},
   "outputs": [
    {
     "data": {
      "text/plain": [
       "array([161850.,  45756.,  74164., ...,  99371.,  55550., 155070.])"
      ]
     },
     "execution_count": 64,
     "metadata": {},
     "output_type": "execute_result"
    }
   ],
   "source": [
    "y_pred3"
   ]
  },
  {
   "cell_type": "markdown",
   "id": "82eab620",
   "metadata": {},
   "source": [
    "#3 Ridge Regression"
   ]
  },
  {
   "cell_type": "code",
   "execution_count": 65,
   "id": "9a9651f4",
   "metadata": {},
   "outputs": [],
   "source": [
    "from sklearn.linear_model import Ridge\n",
    "model = Ridge(alpha=1.0)\n",
    "# fit model\n",
    "model.fit(X_train_std,y_train)\n",
    "yhat = model.predict(X_test_std)"
   ]
  },
  {
   "cell_type": "code",
   "execution_count": 66,
   "id": "61a70ce8",
   "metadata": {},
   "outputs": [
    {
     "name": "stdout",
     "output_type": "stream",
     "text": [
      "Mean absolute error = 40070.9558971659\n",
      "Mean squared error = 2137864190.6083167\n",
      "Median absolute error = 40190.70828888202\n",
      "Explain variance score = -2.2004353709581537e-05\n",
      "R2 score = -2.5676772895000255e-05\n"
     ]
    }
   ],
   "source": [
    "print(\"Mean absolute error =\",sm.mean_absolute_error(y_test, yhat)) \n",
    "print(\"Mean squared error =\",sm.mean_squared_error(y_test, yhat)) \n",
    "print(\"Median absolute error =\",sm.median_absolute_error(y_test, yhat)) \n",
    "print(\"Explain variance score =\",sm.explained_variance_score(y_test, yhat)) \n",
    "print(\"R2 score =\",sm.r2_score(y_test,yhat))"
   ]
  },
  {
   "cell_type": "markdown",
   "id": "013a5299",
   "metadata": {},
   "source": [
    "#4 Gradient Boosting Regression"
   ]
  },
  {
   "cell_type": "code",
   "execution_count": 67,
   "id": "b6cf593f",
   "metadata": {},
   "outputs": [
    {
     "name": "stderr",
     "output_type": "stream",
     "text": [
      "D:\\Anaconda3\\lib\\site-packages\\sklearn\\ensemble\\_gb.py:494: DataConversionWarning: A column-vector y was passed when a 1d array was expected. Please change the shape of y to (n_samples, ), for example using ravel().\n",
      "  y = column_or_1d(y, warn=True)\n"
     ]
    },
    {
     "data": {
      "text/plain": [
       "-0.0003243938764925236"
      ]
     },
     "execution_count": 67,
     "metadata": {},
     "output_type": "execute_result"
    }
   ],
   "source": [
    "from sklearn.ensemble import GradientBoostingRegressor\n",
    "reg = GradientBoostingRegressor(random_state=0)\n",
    "reg.fit(X_train_std,y_train)\n",
    "GradientBoostingRegressor(random_state=0)\n",
    "y_pred4=reg.predict(X_test_std)\n",
    "reg.score(X_test_std, y_test)\n"
   ]
  },
  {
   "cell_type": "code",
   "execution_count": 68,
   "id": "14ffe7e7",
   "metadata": {},
   "outputs": [
    {
     "name": "stdout",
     "output_type": "stream",
     "text": [
      "Mean absolute error = 40074.43067810401\n",
      "Mean squared error = 2138502790.8100276\n",
      "Median absolute error = 40184.854639035126\n",
      "Explain variance score = -0.0003206098706212135\n",
      "R2 score = -0.0003243938764925236\n"
     ]
    }
   ],
   "source": [
    "print(\"Mean absolute error =\",sm.mean_absolute_error(y_test, y_pred4)) \n",
    "print(\"Mean squared error =\",sm.mean_squared_error(y_test, y_pred4)) \n",
    "print(\"Median absolute error =\",sm.median_absolute_error(y_test, y_pred4)) \n",
    "print(\"Explain variance score =\",sm.explained_variance_score(y_test, y_pred4)) \n",
    "print(\"R2 score =\",sm.r2_score(y_test, y_pred4))"
   ]
  },
  {
   "cell_type": "code",
   "execution_count": 69,
   "id": "fe6fbb37",
   "metadata": {},
   "outputs": [
    {
     "name": "stdout",
     "output_type": "stream",
     "text": [
      "RMSE test set: 46243.95\n"
     ]
    }
   ],
   "source": [
    "from sklearn.metrics import mean_squared_error as MSE\n",
    "# test set RMSE\n",
    "test_rmse = MSE(y_test, y_pred4) ** (1 / 2)\n",
    "  \n",
    "# Print rmse\n",
    "print('RMSE test set: {:.2f}'.format(test_rmse))"
   ]
  },
  {
   "cell_type": "code",
   "execution_count": 70,
   "id": "578f7a15",
   "metadata": {},
   "outputs": [],
   "source": [
    "# Hyper parameters range intialization for tuning \n"
   ]
  },
  {
   "cell_type": "code",
   "execution_count": 71,
   "id": "57188a19",
   "metadata": {},
   "outputs": [],
   "source": [
    "parameters={\"splitter\":[\"best\",\"random\"],\n",
    "            \"max_depth\" : [1,3,5,7,9,11,12],\n",
    "           \"min_samples_leaf\":[1,2,3,4,5,6,7,8,9,10],\n",
    "           \"min_weight_fraction_leaf\":[0.1,0.2,0.3,0.4,0.5,0.6,0.7,0.8,0.9],\n",
    "           \"max_features\":[\"auto\",\"log2\",\"sqrt\",None],\n",
    "           \"max_leaf_nodes\":[None,10,20,30,40,50,60,70,80,90] }"
   ]
  },
  {
   "cell_type": "code",
   "execution_count": 72,
   "id": "f74ce476",
   "metadata": {},
   "outputs": [],
   "source": [
    "# calculating different regression metrics\n",
    "\n",
    "from sklearn.model_selection import GridSearchCV"
   ]
  },
  {
   "cell_type": "code",
   "execution_count": 73,
   "id": "8ccf5ea7",
   "metadata": {},
   "outputs": [],
   "source": [
    "tuning_model=GridSearchCV(dt_model_aqi,param_grid=parameters,scoring='neg_mean_squared_error',cv=3,verbose=3)"
   ]
  },
  {
   "cell_type": "code",
   "execution_count": 74,
   "id": "9d535ebf",
   "metadata": {},
   "outputs": [],
   "source": [
    "# function for calculating how much time take for hyperparameter tuning\n",
    "\n",
    "def timer(start_time=None):\n",
    "    if not start_time:\n",
    "        start_time=datetime.now()\n",
    "        return start_time\n",
    "    elif start_time:\n",
    "        thour,temp_sec=divmod((datetime.now()-start_time).total_seconds(),3600)\n",
    "        tmin,tsec=divmod(temp_sec,60)\n",
    "        #print(thour,\":\",tmin,':',round(tsec,2))"
   ]
  },
  {
   "cell_type": "code",
   "execution_count": 77,
   "id": "d31aef90",
   "metadata": {},
   "outputs": [
    {
     "ename": "KeyboardInterrupt",
     "evalue": "",
     "output_type": "error",
     "traceback": [
      "\u001b[1;31m---------------------------------------------------------------------------\u001b[0m",
      "\u001b[1;31mKeyboardInterrupt\u001b[0m                         Traceback (most recent call last)",
      "\u001b[1;32m<ipython-input-77-82b13de155ca>\u001b[0m in \u001b[0;36m<module>\u001b[1;34m\u001b[0m\n\u001b[0;32m      3\u001b[0m \u001b[0mstart_time\u001b[0m\u001b[1;33m=\u001b[0m\u001b[0mtimer\u001b[0m\u001b[1;33m(\u001b[0m\u001b[1;32mNone\u001b[0m\u001b[1;33m)\u001b[0m\u001b[1;33m\u001b[0m\u001b[1;33m\u001b[0m\u001b[0m\n\u001b[0;32m      4\u001b[0m \u001b[1;33m\u001b[0m\u001b[0m\n\u001b[1;32m----> 5\u001b[1;33m \u001b[0mtuning_model\u001b[0m\u001b[1;33m.\u001b[0m\u001b[0mfit\u001b[0m\u001b[1;33m(\u001b[0m\u001b[0mX_train_std\u001b[0m\u001b[1;33m,\u001b[0m\u001b[0my_train\u001b[0m\u001b[1;33m)\u001b[0m\u001b[1;33m\u001b[0m\u001b[1;33m\u001b[0m\u001b[0m\n\u001b[0m\u001b[0;32m      6\u001b[0m \u001b[1;33m\u001b[0m\u001b[0m\n\u001b[0;32m      7\u001b[0m \u001b[0mtimer\u001b[0m\u001b[1;33m(\u001b[0m\u001b[0mstart_time\u001b[0m\u001b[1;33m)\u001b[0m\u001b[1;33m\u001b[0m\u001b[1;33m\u001b[0m\u001b[0m\n",
      "\u001b[1;32mD:\\Anaconda3\\lib\\site-packages\\sklearn\\model_selection\\_search.py\u001b[0m in \u001b[0;36mfit\u001b[1;34m(self, X, y, groups, **fit_params)\u001b[0m\n\u001b[0;32m    889\u001b[0m                 \u001b[1;32mreturn\u001b[0m \u001b[0mresults\u001b[0m\u001b[1;33m\u001b[0m\u001b[1;33m\u001b[0m\u001b[0m\n\u001b[0;32m    890\u001b[0m \u001b[1;33m\u001b[0m\u001b[0m\n\u001b[1;32m--> 891\u001b[1;33m             \u001b[0mself\u001b[0m\u001b[1;33m.\u001b[0m\u001b[0m_run_search\u001b[0m\u001b[1;33m(\u001b[0m\u001b[0mevaluate_candidates\u001b[0m\u001b[1;33m)\u001b[0m\u001b[1;33m\u001b[0m\u001b[1;33m\u001b[0m\u001b[0m\n\u001b[0m\u001b[0;32m    892\u001b[0m \u001b[1;33m\u001b[0m\u001b[0m\n\u001b[0;32m    893\u001b[0m             \u001b[1;31m# multimetric is determined here because in the case of a callable\u001b[0m\u001b[1;33m\u001b[0m\u001b[1;33m\u001b[0m\u001b[1;33m\u001b[0m\u001b[0m\n",
      "\u001b[1;32mD:\\Anaconda3\\lib\\site-packages\\sklearn\\model_selection\\_search.py\u001b[0m in \u001b[0;36m_run_search\u001b[1;34m(self, evaluate_candidates)\u001b[0m\n\u001b[0;32m   1390\u001b[0m     \u001b[1;32mdef\u001b[0m \u001b[0m_run_search\u001b[0m\u001b[1;33m(\u001b[0m\u001b[0mself\u001b[0m\u001b[1;33m,\u001b[0m \u001b[0mevaluate_candidates\u001b[0m\u001b[1;33m)\u001b[0m\u001b[1;33m:\u001b[0m\u001b[1;33m\u001b[0m\u001b[1;33m\u001b[0m\u001b[0m\n\u001b[0;32m   1391\u001b[0m         \u001b[1;34m\"\"\"Search all candidates in param_grid\"\"\"\u001b[0m\u001b[1;33m\u001b[0m\u001b[1;33m\u001b[0m\u001b[0m\n\u001b[1;32m-> 1392\u001b[1;33m         \u001b[0mevaluate_candidates\u001b[0m\u001b[1;33m(\u001b[0m\u001b[0mParameterGrid\u001b[0m\u001b[1;33m(\u001b[0m\u001b[0mself\u001b[0m\u001b[1;33m.\u001b[0m\u001b[0mparam_grid\u001b[0m\u001b[1;33m)\u001b[0m\u001b[1;33m)\u001b[0m\u001b[1;33m\u001b[0m\u001b[1;33m\u001b[0m\u001b[0m\n\u001b[0m\u001b[0;32m   1393\u001b[0m \u001b[1;33m\u001b[0m\u001b[0m\n\u001b[0;32m   1394\u001b[0m \u001b[1;33m\u001b[0m\u001b[0m\n",
      "\u001b[1;32mD:\\Anaconda3\\lib\\site-packages\\sklearn\\model_selection\\_search.py\u001b[0m in \u001b[0;36mevaluate_candidates\u001b[1;34m(candidate_params, cv, more_results)\u001b[0m\n\u001b[0;32m    836\u001b[0m                     )\n\u001b[0;32m    837\u001b[0m \u001b[1;33m\u001b[0m\u001b[0m\n\u001b[1;32m--> 838\u001b[1;33m                 out = parallel(\n\u001b[0m\u001b[0;32m    839\u001b[0m                     delayed(_fit_and_score)(\n\u001b[0;32m    840\u001b[0m                         \u001b[0mclone\u001b[0m\u001b[1;33m(\u001b[0m\u001b[0mbase_estimator\u001b[0m\u001b[1;33m)\u001b[0m\u001b[1;33m,\u001b[0m\u001b[1;33m\u001b[0m\u001b[1;33m\u001b[0m\u001b[0m\n",
      "\u001b[1;32mD:\\Anaconda3\\lib\\site-packages\\joblib\\parallel.py\u001b[0m in \u001b[0;36m__call__\u001b[1;34m(self, iterable)\u001b[0m\n\u001b[0;32m   1042\u001b[0m                 \u001b[0mself\u001b[0m\u001b[1;33m.\u001b[0m\u001b[0m_iterating\u001b[0m \u001b[1;33m=\u001b[0m \u001b[0mself\u001b[0m\u001b[1;33m.\u001b[0m\u001b[0m_original_iterator\u001b[0m \u001b[1;32mis\u001b[0m \u001b[1;32mnot\u001b[0m \u001b[1;32mNone\u001b[0m\u001b[1;33m\u001b[0m\u001b[1;33m\u001b[0m\u001b[0m\n\u001b[0;32m   1043\u001b[0m \u001b[1;33m\u001b[0m\u001b[0m\n\u001b[1;32m-> 1044\u001b[1;33m             \u001b[1;32mwhile\u001b[0m \u001b[0mself\u001b[0m\u001b[1;33m.\u001b[0m\u001b[0mdispatch_one_batch\u001b[0m\u001b[1;33m(\u001b[0m\u001b[0miterator\u001b[0m\u001b[1;33m)\u001b[0m\u001b[1;33m:\u001b[0m\u001b[1;33m\u001b[0m\u001b[1;33m\u001b[0m\u001b[0m\n\u001b[0m\u001b[0;32m   1045\u001b[0m                 \u001b[1;32mpass\u001b[0m\u001b[1;33m\u001b[0m\u001b[1;33m\u001b[0m\u001b[0m\n\u001b[0;32m   1046\u001b[0m \u001b[1;33m\u001b[0m\u001b[0m\n",
      "\u001b[1;32mD:\\Anaconda3\\lib\\site-packages\\joblib\\parallel.py\u001b[0m in \u001b[0;36mdispatch_one_batch\u001b[1;34m(self, iterator)\u001b[0m\n\u001b[0;32m    857\u001b[0m                 \u001b[1;32mreturn\u001b[0m \u001b[1;32mFalse\u001b[0m\u001b[1;33m\u001b[0m\u001b[1;33m\u001b[0m\u001b[0m\n\u001b[0;32m    858\u001b[0m             \u001b[1;32melse\u001b[0m\u001b[1;33m:\u001b[0m\u001b[1;33m\u001b[0m\u001b[1;33m\u001b[0m\u001b[0m\n\u001b[1;32m--> 859\u001b[1;33m                 \u001b[0mself\u001b[0m\u001b[1;33m.\u001b[0m\u001b[0m_dispatch\u001b[0m\u001b[1;33m(\u001b[0m\u001b[0mtasks\u001b[0m\u001b[1;33m)\u001b[0m\u001b[1;33m\u001b[0m\u001b[1;33m\u001b[0m\u001b[0m\n\u001b[0m\u001b[0;32m    860\u001b[0m                 \u001b[1;32mreturn\u001b[0m \u001b[1;32mTrue\u001b[0m\u001b[1;33m\u001b[0m\u001b[1;33m\u001b[0m\u001b[0m\n\u001b[0;32m    861\u001b[0m \u001b[1;33m\u001b[0m\u001b[0m\n",
      "\u001b[1;32mD:\\Anaconda3\\lib\\site-packages\\joblib\\parallel.py\u001b[0m in \u001b[0;36m_dispatch\u001b[1;34m(self, batch)\u001b[0m\n\u001b[0;32m    775\u001b[0m         \u001b[1;32mwith\u001b[0m \u001b[0mself\u001b[0m\u001b[1;33m.\u001b[0m\u001b[0m_lock\u001b[0m\u001b[1;33m:\u001b[0m\u001b[1;33m\u001b[0m\u001b[1;33m\u001b[0m\u001b[0m\n\u001b[0;32m    776\u001b[0m             \u001b[0mjob_idx\u001b[0m \u001b[1;33m=\u001b[0m \u001b[0mlen\u001b[0m\u001b[1;33m(\u001b[0m\u001b[0mself\u001b[0m\u001b[1;33m.\u001b[0m\u001b[0m_jobs\u001b[0m\u001b[1;33m)\u001b[0m\u001b[1;33m\u001b[0m\u001b[1;33m\u001b[0m\u001b[0m\n\u001b[1;32m--> 777\u001b[1;33m             \u001b[0mjob\u001b[0m \u001b[1;33m=\u001b[0m \u001b[0mself\u001b[0m\u001b[1;33m.\u001b[0m\u001b[0m_backend\u001b[0m\u001b[1;33m.\u001b[0m\u001b[0mapply_async\u001b[0m\u001b[1;33m(\u001b[0m\u001b[0mbatch\u001b[0m\u001b[1;33m,\u001b[0m \u001b[0mcallback\u001b[0m\u001b[1;33m=\u001b[0m\u001b[0mcb\u001b[0m\u001b[1;33m)\u001b[0m\u001b[1;33m\u001b[0m\u001b[1;33m\u001b[0m\u001b[0m\n\u001b[0m\u001b[0;32m    778\u001b[0m             \u001b[1;31m# A job can complete so quickly than its callback is\u001b[0m\u001b[1;33m\u001b[0m\u001b[1;33m\u001b[0m\u001b[1;33m\u001b[0m\u001b[0m\n\u001b[0;32m    779\u001b[0m             \u001b[1;31m# called before we get here, causing self._jobs to\u001b[0m\u001b[1;33m\u001b[0m\u001b[1;33m\u001b[0m\u001b[1;33m\u001b[0m\u001b[0m\n",
      "\u001b[1;32mD:\\Anaconda3\\lib\\site-packages\\joblib\\_parallel_backends.py\u001b[0m in \u001b[0;36mapply_async\u001b[1;34m(self, func, callback)\u001b[0m\n\u001b[0;32m    206\u001b[0m     \u001b[1;32mdef\u001b[0m \u001b[0mapply_async\u001b[0m\u001b[1;33m(\u001b[0m\u001b[0mself\u001b[0m\u001b[1;33m,\u001b[0m \u001b[0mfunc\u001b[0m\u001b[1;33m,\u001b[0m \u001b[0mcallback\u001b[0m\u001b[1;33m=\u001b[0m\u001b[1;32mNone\u001b[0m\u001b[1;33m)\u001b[0m\u001b[1;33m:\u001b[0m\u001b[1;33m\u001b[0m\u001b[1;33m\u001b[0m\u001b[0m\n\u001b[0;32m    207\u001b[0m         \u001b[1;34m\"\"\"Schedule a func to be run\"\"\"\u001b[0m\u001b[1;33m\u001b[0m\u001b[1;33m\u001b[0m\u001b[0m\n\u001b[1;32m--> 208\u001b[1;33m         \u001b[0mresult\u001b[0m \u001b[1;33m=\u001b[0m \u001b[0mImmediateResult\u001b[0m\u001b[1;33m(\u001b[0m\u001b[0mfunc\u001b[0m\u001b[1;33m)\u001b[0m\u001b[1;33m\u001b[0m\u001b[1;33m\u001b[0m\u001b[0m\n\u001b[0m\u001b[0;32m    209\u001b[0m         \u001b[1;32mif\u001b[0m \u001b[0mcallback\u001b[0m\u001b[1;33m:\u001b[0m\u001b[1;33m\u001b[0m\u001b[1;33m\u001b[0m\u001b[0m\n\u001b[0;32m    210\u001b[0m             \u001b[0mcallback\u001b[0m\u001b[1;33m(\u001b[0m\u001b[0mresult\u001b[0m\u001b[1;33m)\u001b[0m\u001b[1;33m\u001b[0m\u001b[1;33m\u001b[0m\u001b[0m\n",
      "\u001b[1;32mD:\\Anaconda3\\lib\\site-packages\\joblib\\_parallel_backends.py\u001b[0m in \u001b[0;36m__init__\u001b[1;34m(self, batch)\u001b[0m\n\u001b[0;32m    570\u001b[0m         \u001b[1;31m# Don't delay the application, to avoid keeping the input\u001b[0m\u001b[1;33m\u001b[0m\u001b[1;33m\u001b[0m\u001b[1;33m\u001b[0m\u001b[0m\n\u001b[0;32m    571\u001b[0m         \u001b[1;31m# arguments in memory\u001b[0m\u001b[1;33m\u001b[0m\u001b[1;33m\u001b[0m\u001b[1;33m\u001b[0m\u001b[0m\n\u001b[1;32m--> 572\u001b[1;33m         \u001b[0mself\u001b[0m\u001b[1;33m.\u001b[0m\u001b[0mresults\u001b[0m \u001b[1;33m=\u001b[0m \u001b[0mbatch\u001b[0m\u001b[1;33m(\u001b[0m\u001b[1;33m)\u001b[0m\u001b[1;33m\u001b[0m\u001b[1;33m\u001b[0m\u001b[0m\n\u001b[0m\u001b[0;32m    573\u001b[0m \u001b[1;33m\u001b[0m\u001b[0m\n\u001b[0;32m    574\u001b[0m     \u001b[1;32mdef\u001b[0m \u001b[0mget\u001b[0m\u001b[1;33m(\u001b[0m\u001b[0mself\u001b[0m\u001b[1;33m)\u001b[0m\u001b[1;33m:\u001b[0m\u001b[1;33m\u001b[0m\u001b[1;33m\u001b[0m\u001b[0m\n",
      "\u001b[1;32mD:\\Anaconda3\\lib\\site-packages\\joblib\\parallel.py\u001b[0m in \u001b[0;36m__call__\u001b[1;34m(self)\u001b[0m\n\u001b[0;32m    260\u001b[0m         \u001b[1;31m# change the default number of processes to -1\u001b[0m\u001b[1;33m\u001b[0m\u001b[1;33m\u001b[0m\u001b[1;33m\u001b[0m\u001b[0m\n\u001b[0;32m    261\u001b[0m         \u001b[1;32mwith\u001b[0m \u001b[0mparallel_backend\u001b[0m\u001b[1;33m(\u001b[0m\u001b[0mself\u001b[0m\u001b[1;33m.\u001b[0m\u001b[0m_backend\u001b[0m\u001b[1;33m,\u001b[0m \u001b[0mn_jobs\u001b[0m\u001b[1;33m=\u001b[0m\u001b[0mself\u001b[0m\u001b[1;33m.\u001b[0m\u001b[0m_n_jobs\u001b[0m\u001b[1;33m)\u001b[0m\u001b[1;33m:\u001b[0m\u001b[1;33m\u001b[0m\u001b[1;33m\u001b[0m\u001b[0m\n\u001b[1;32m--> 262\u001b[1;33m             return [func(*args, **kwargs)\n\u001b[0m\u001b[0;32m    263\u001b[0m                     for func, args, kwargs in self.items]\n\u001b[0;32m    264\u001b[0m \u001b[1;33m\u001b[0m\u001b[0m\n",
      "\u001b[1;32mD:\\Anaconda3\\lib\\site-packages\\joblib\\parallel.py\u001b[0m in \u001b[0;36m<listcomp>\u001b[1;34m(.0)\u001b[0m\n\u001b[0;32m    260\u001b[0m         \u001b[1;31m# change the default number of processes to -1\u001b[0m\u001b[1;33m\u001b[0m\u001b[1;33m\u001b[0m\u001b[1;33m\u001b[0m\u001b[0m\n\u001b[0;32m    261\u001b[0m         \u001b[1;32mwith\u001b[0m \u001b[0mparallel_backend\u001b[0m\u001b[1;33m(\u001b[0m\u001b[0mself\u001b[0m\u001b[1;33m.\u001b[0m\u001b[0m_backend\u001b[0m\u001b[1;33m,\u001b[0m \u001b[0mn_jobs\u001b[0m\u001b[1;33m=\u001b[0m\u001b[0mself\u001b[0m\u001b[1;33m.\u001b[0m\u001b[0m_n_jobs\u001b[0m\u001b[1;33m)\u001b[0m\u001b[1;33m:\u001b[0m\u001b[1;33m\u001b[0m\u001b[1;33m\u001b[0m\u001b[0m\n\u001b[1;32m--> 262\u001b[1;33m             return [func(*args, **kwargs)\n\u001b[0m\u001b[0;32m    263\u001b[0m                     for func, args, kwargs in self.items]\n\u001b[0;32m    264\u001b[0m \u001b[1;33m\u001b[0m\u001b[0m\n",
      "\u001b[1;32mD:\\Anaconda3\\lib\\site-packages\\sklearn\\utils\\fixes.py\u001b[0m in \u001b[0;36m__call__\u001b[1;34m(self, *args, **kwargs)\u001b[0m\n\u001b[0;32m    214\u001b[0m     \u001b[1;32mdef\u001b[0m \u001b[0m__call__\u001b[0m\u001b[1;33m(\u001b[0m\u001b[0mself\u001b[0m\u001b[1;33m,\u001b[0m \u001b[1;33m*\u001b[0m\u001b[0margs\u001b[0m\u001b[1;33m,\u001b[0m \u001b[1;33m**\u001b[0m\u001b[0mkwargs\u001b[0m\u001b[1;33m)\u001b[0m\u001b[1;33m:\u001b[0m\u001b[1;33m\u001b[0m\u001b[1;33m\u001b[0m\u001b[0m\n\u001b[0;32m    215\u001b[0m         \u001b[1;32mwith\u001b[0m \u001b[0mconfig_context\u001b[0m\u001b[1;33m(\u001b[0m\u001b[1;33m**\u001b[0m\u001b[0mself\u001b[0m\u001b[1;33m.\u001b[0m\u001b[0mconfig\u001b[0m\u001b[1;33m)\u001b[0m\u001b[1;33m:\u001b[0m\u001b[1;33m\u001b[0m\u001b[1;33m\u001b[0m\u001b[0m\n\u001b[1;32m--> 216\u001b[1;33m             \u001b[1;32mreturn\u001b[0m \u001b[0mself\u001b[0m\u001b[1;33m.\u001b[0m\u001b[0mfunction\u001b[0m\u001b[1;33m(\u001b[0m\u001b[1;33m*\u001b[0m\u001b[0margs\u001b[0m\u001b[1;33m,\u001b[0m \u001b[1;33m**\u001b[0m\u001b[0mkwargs\u001b[0m\u001b[1;33m)\u001b[0m\u001b[1;33m\u001b[0m\u001b[1;33m\u001b[0m\u001b[0m\n\u001b[0m\u001b[0;32m    217\u001b[0m \u001b[1;33m\u001b[0m\u001b[0m\n\u001b[0;32m    218\u001b[0m \u001b[1;33m\u001b[0m\u001b[0m\n",
      "\u001b[1;32mD:\\Anaconda3\\lib\\site-packages\\sklearn\\model_selection\\_validation.py\u001b[0m in \u001b[0;36m_fit_and_score\u001b[1;34m(estimator, X, y, scorer, train, test, verbose, parameters, fit_params, return_train_score, return_parameters, return_n_test_samples, return_times, return_estimator, split_progress, candidate_progress, error_score)\u001b[0m\n\u001b[0;32m    678\u001b[0m             \u001b[0mestimator\u001b[0m\u001b[1;33m.\u001b[0m\u001b[0mfit\u001b[0m\u001b[1;33m(\u001b[0m\u001b[0mX_train\u001b[0m\u001b[1;33m,\u001b[0m \u001b[1;33m**\u001b[0m\u001b[0mfit_params\u001b[0m\u001b[1;33m)\u001b[0m\u001b[1;33m\u001b[0m\u001b[1;33m\u001b[0m\u001b[0m\n\u001b[0;32m    679\u001b[0m         \u001b[1;32melse\u001b[0m\u001b[1;33m:\u001b[0m\u001b[1;33m\u001b[0m\u001b[1;33m\u001b[0m\u001b[0m\n\u001b[1;32m--> 680\u001b[1;33m             \u001b[0mestimator\u001b[0m\u001b[1;33m.\u001b[0m\u001b[0mfit\u001b[0m\u001b[1;33m(\u001b[0m\u001b[0mX_train\u001b[0m\u001b[1;33m,\u001b[0m \u001b[0my_train\u001b[0m\u001b[1;33m,\u001b[0m \u001b[1;33m**\u001b[0m\u001b[0mfit_params\u001b[0m\u001b[1;33m)\u001b[0m\u001b[1;33m\u001b[0m\u001b[1;33m\u001b[0m\u001b[0m\n\u001b[0m\u001b[0;32m    681\u001b[0m \u001b[1;33m\u001b[0m\u001b[0m\n\u001b[0;32m    682\u001b[0m     \u001b[1;32mexcept\u001b[0m \u001b[0mException\u001b[0m\u001b[1;33m:\u001b[0m\u001b[1;33m\u001b[0m\u001b[1;33m\u001b[0m\u001b[0m\n",
      "\u001b[1;32mD:\\Anaconda3\\lib\\site-packages\\sklearn\\tree\\_classes.py\u001b[0m in \u001b[0;36mfit\u001b[1;34m(self, X, y, sample_weight, check_input, X_idx_sorted)\u001b[0m\n\u001b[0;32m   1313\u001b[0m         \"\"\"\n\u001b[0;32m   1314\u001b[0m \u001b[1;33m\u001b[0m\u001b[0m\n\u001b[1;32m-> 1315\u001b[1;33m         super().fit(\n\u001b[0m\u001b[0;32m   1316\u001b[0m             \u001b[0mX\u001b[0m\u001b[1;33m,\u001b[0m\u001b[1;33m\u001b[0m\u001b[1;33m\u001b[0m\u001b[0m\n\u001b[0;32m   1317\u001b[0m             \u001b[0my\u001b[0m\u001b[1;33m,\u001b[0m\u001b[1;33m\u001b[0m\u001b[1;33m\u001b[0m\u001b[0m\n",
      "\u001b[1;32mD:\\Anaconda3\\lib\\site-packages\\sklearn\\tree\\_classes.py\u001b[0m in \u001b[0;36mfit\u001b[1;34m(self, X, y, sample_weight, check_input, X_idx_sorted)\u001b[0m\n\u001b[0;32m    418\u001b[0m             )\n\u001b[0;32m    419\u001b[0m \u001b[1;33m\u001b[0m\u001b[0m\n\u001b[1;32m--> 420\u001b[1;33m         \u001b[0mbuilder\u001b[0m\u001b[1;33m.\u001b[0m\u001b[0mbuild\u001b[0m\u001b[1;33m(\u001b[0m\u001b[0mself\u001b[0m\u001b[1;33m.\u001b[0m\u001b[0mtree_\u001b[0m\u001b[1;33m,\u001b[0m \u001b[0mX\u001b[0m\u001b[1;33m,\u001b[0m \u001b[0my\u001b[0m\u001b[1;33m,\u001b[0m \u001b[0msample_weight\u001b[0m\u001b[1;33m)\u001b[0m\u001b[1;33m\u001b[0m\u001b[1;33m\u001b[0m\u001b[0m\n\u001b[0m\u001b[0;32m    421\u001b[0m \u001b[1;33m\u001b[0m\u001b[0m\n\u001b[0;32m    422\u001b[0m         \u001b[1;32mif\u001b[0m \u001b[0mself\u001b[0m\u001b[1;33m.\u001b[0m\u001b[0mn_outputs_\u001b[0m \u001b[1;33m==\u001b[0m \u001b[1;36m1\u001b[0m \u001b[1;32mand\u001b[0m \u001b[0mis_classifier\u001b[0m\u001b[1;33m(\u001b[0m\u001b[0mself\u001b[0m\u001b[1;33m)\u001b[0m\u001b[1;33m:\u001b[0m\u001b[1;33m\u001b[0m\u001b[1;33m\u001b[0m\u001b[0m\n",
      "\u001b[1;31mKeyboardInterrupt\u001b[0m: "
     ]
    }
   ],
   "source": [
    "%%capture\n",
    "from datetime import datetime\n",
    "\n",
    "start_time=timer(None)\n",
    "\n",
    "tuning_model.fit(X_train_std,y_train)\n",
    "\n",
    "timer(start_time)"
   ]
  },
  {
   "cell_type": "code",
   "execution_count": 79,
   "id": "d5d573c7",
   "metadata": {},
   "outputs": [
    {
     "ename": "AttributeError",
     "evalue": "'GridSearchCV' object has no attribute 'best_params_'",
     "output_type": "error",
     "traceback": [
      "\u001b[1;31m---------------------------------------------------------------------------\u001b[0m",
      "\u001b[1;31mAttributeError\u001b[0m                            Traceback (most recent call last)",
      "\u001b[1;32m<ipython-input-79-a0be2341860b>\u001b[0m in \u001b[0;36m<module>\u001b[1;34m\u001b[0m\n\u001b[0;32m      1\u001b[0m \u001b[1;31m# best hyperparameters\u001b[0m\u001b[1;33m\u001b[0m\u001b[1;33m\u001b[0m\u001b[1;33m\u001b[0m\u001b[0m\n\u001b[1;32m----> 2\u001b[1;33m \u001b[0mtuning_model\u001b[0m\u001b[1;33m.\u001b[0m\u001b[0mbest_params_\u001b[0m\u001b[1;33m\u001b[0m\u001b[1;33m\u001b[0m\u001b[0m\n\u001b[0m",
      "\u001b[1;31mAttributeError\u001b[0m: 'GridSearchCV' object has no attribute 'best_params_'"
     ]
    }
   ],
   "source": [
    "# best hyperparameters \n",
    "tuning_model.best_params_"
   ]
  },
  {
   "cell_type": "code",
   "execution_count": 80,
   "id": "7eb4a5ec",
   "metadata": {},
   "outputs": [
    {
     "ename": "AttributeError",
     "evalue": "'GridSearchCV' object has no attribute 'best_score_'",
     "output_type": "error",
     "traceback": [
      "\u001b[1;31m---------------------------------------------------------------------------\u001b[0m",
      "\u001b[1;31mAttributeError\u001b[0m                            Traceback (most recent call last)",
      "\u001b[1;32m<ipython-input-80-e53a6c918975>\u001b[0m in \u001b[0;36m<module>\u001b[1;34m\u001b[0m\n\u001b[0;32m      1\u001b[0m \u001b[1;31m# best model score\u001b[0m\u001b[1;33m\u001b[0m\u001b[1;33m\u001b[0m\u001b[1;33m\u001b[0m\u001b[0m\n\u001b[1;32m----> 2\u001b[1;33m \u001b[0mtuning_model\u001b[0m\u001b[1;33m.\u001b[0m\u001b[0mbest_score_\u001b[0m\u001b[1;33m\u001b[0m\u001b[1;33m\u001b[0m\u001b[0m\n\u001b[0m",
      "\u001b[1;31mAttributeError\u001b[0m: 'GridSearchCV' object has no attribute 'best_score_'"
     ]
    }
   ],
   "source": [
    "# best model score\n",
    "tuning_model.best_score_"
   ]
  },
  {
   "cell_type": "code",
   "execution_count": 81,
   "id": "676ee072",
   "metadata": {},
   "outputs": [],
   "source": [
    "tuned_hyper_model=DecisionTreeRegressor(max_depth=5,max_features='auto',max_leaf_nodes=50,min_samples_leaf=2,min_weight_fraction_leaf=0.1,splitter='random')"
   ]
  },
  {
   "cell_type": "code",
   "execution_count": 82,
   "id": "ecbe95a6",
   "metadata": {},
   "outputs": [
    {
     "data": {
      "text/plain": [
       "DecisionTreeRegressor(max_depth=5, max_features='auto', max_leaf_nodes=50,\n",
       "                      min_samples_leaf=2, min_weight_fraction_leaf=0.1,\n",
       "                      splitter='random')"
      ]
     },
     "execution_count": 82,
     "metadata": {},
     "output_type": "execute_result"
    }
   ],
   "source": [
    "# fitting model\n",
    "\n",
    "\n",
    "tuned_hyper_model.fit(X_train_std,y_train)"
   ]
  },
  {
   "cell_type": "code",
   "execution_count": 83,
   "id": "70b5b8c3",
   "metadata": {},
   "outputs": [],
   "source": [
    "# prediction \n",
    "\n",
    "tuned_pred=tuned_hyper_model.predict(X_test_std)"
   ]
  },
  {
   "cell_type": "code",
   "execution_count": 84,
   "id": "e58710c4",
   "metadata": {},
   "outputs": [
    {
     "name": "stdout",
     "output_type": "stream",
     "text": [
      "MAE: 40070.49406558965\n",
      "MSE: 2137844111.8949738\n",
      "RMSE: 46236.82636054267\n"
     ]
    }
   ],
   "source": [
    "from sklearn import metrics\n",
    "\n",
    "print('MAE:', metrics.mean_absolute_error(y_test,tuned_pred))\n",
    "print('MSE:', metrics.mean_squared_error(y_test, tuned_pred))\n",
    "print('RMSE:', np.sqrt(metrics.mean_squared_error(y_test, tuned_pred)))"
   ]
  },
  {
   "cell_type": "code",
   "execution_count": 85,
   "id": "6dec9351",
   "metadata": {},
   "outputs": [
    {
     "name": "stdout",
     "output_type": "stream",
     "text": [
      "MAE: 54117.605643333336\n",
      "MSE: 4388388620.064828\n",
      "RMSE: 66244.91391846492\n"
     ]
    }
   ],
   "source": [
    "# without hyperparameter tuning \n",
    "\n",
    "from sklearn import metrics\n",
    "\n",
    "print('MAE:', metrics.mean_absolute_error(y_test,y_pred3))\n",
    "print('MSE:', metrics.mean_squared_error(y_test, y_pred3))\n",
    "print('RMSE:', np.sqrt(metrics.mean_squared_error(y_test, y_pred3)))"
   ]
  },
  {
   "cell_type": "code",
   "execution_count": null,
   "id": "1c16c4e3",
   "metadata": {},
   "outputs": [],
   "source": []
  }
 ],
 "metadata": {
  "kernelspec": {
   "display_name": "Python 3",
   "language": "python",
   "name": "python3"
  },
  "language_info": {
   "codemirror_mode": {
    "name": "ipython",
    "version": 3
   },
   "file_extension": ".py",
   "mimetype": "text/x-python",
   "name": "python",
   "nbconvert_exporter": "python",
   "pygments_lexer": "ipython3",
   "version": "3.8.8"
  }
 },
 "nbformat": 4,
 "nbformat_minor": 5
}
